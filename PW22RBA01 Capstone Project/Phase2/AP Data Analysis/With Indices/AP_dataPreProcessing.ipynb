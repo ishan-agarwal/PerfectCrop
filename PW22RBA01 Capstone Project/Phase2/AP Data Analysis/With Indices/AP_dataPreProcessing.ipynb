{
 "cells": [
  {
   "cell_type": "code",
   "execution_count": 2,
   "metadata": {},
   "outputs": [],
   "source": [
    "# Importing the required modules"
   ]
  },
  {
   "cell_type": "code",
   "execution_count": 3,
   "metadata": {},
   "outputs": [],
   "source": [
    "import numpy as np\n",
    "import matplotlib.pyplot as plt\n",
    "import pandas as pd\n",
    "import seaborn as sns"
   ]
  },
  {
   "cell_type": "code",
   "execution_count": 4,
   "metadata": {},
   "outputs": [],
   "source": [
    "# Importing the dataset as a dataframe"
   ]
  },
  {
   "cell_type": "code",
   "execution_count": 5,
   "metadata": {},
   "outputs": [],
   "source": [
    "soil_df = pd.read_csv('data_with_indices_2.csv')"
   ]
  },
  {
   "cell_type": "code",
   "execution_count": 6,
   "metadata": {},
   "outputs": [
    {
     "data": {
      "text/html": [
       "<div>\n",
       "<style scoped>\n",
       "    .dataframe tbody tr th:only-of-type {\n",
       "        vertical-align: middle;\n",
       "    }\n",
       "\n",
       "    .dataframe tbody tr th {\n",
       "        vertical-align: top;\n",
       "    }\n",
       "\n",
       "    .dataframe thead th {\n",
       "        text-align: right;\n",
       "    }\n",
       "</style>\n",
       "<table border=\"1\" class=\"dataframe\">\n",
       "  <thead>\n",
       "    <tr style=\"text-align: right;\">\n",
       "      <th></th>\n",
       "      <th>Unnamed: 0</th>\n",
       "      <th>Unnamed: 0.1</th>\n",
       "      <th>Unnamed: 0.1.1</th>\n",
       "      <th>District</th>\n",
       "      <th>Mandal</th>\n",
       "      <th>Village</th>\n",
       "      <th>Latitude</th>\n",
       "      <th>Longitude</th>\n",
       "      <th>SoilType</th>\n",
       "      <th>pH</th>\n",
       "      <th>...</th>\n",
       "      <th>B</th>\n",
       "      <th>Fe</th>\n",
       "      <th>Cu</th>\n",
       "      <th>Mn</th>\n",
       "      <th>Crop</th>\n",
       "      <th>ndvi</th>\n",
       "      <th>arvi</th>\n",
       "      <th>evi</th>\n",
       "      <th>gci</th>\n",
       "      <th>ndwi</th>\n",
       "    </tr>\n",
       "  </thead>\n",
       "  <tbody>\n",
       "    <tr>\n",
       "      <th>0</th>\n",
       "      <td>0</td>\n",
       "      <td>0</td>\n",
       "      <td>0</td>\n",
       "      <td>Anantapur</td>\n",
       "      <td>Penukonda</td>\n",
       "      <td>Gonipeta</td>\n",
       "      <td>14.08</td>\n",
       "      <td>77.69</td>\n",
       "      <td>Mixed soil</td>\n",
       "      <td>6.19</td>\n",
       "      <td>...</td>\n",
       "      <td>0.17</td>\n",
       "      <td>8.89</td>\n",
       "      <td>0.51</td>\n",
       "      <td>15.24</td>\n",
       "      <td>G.Nut</td>\n",
       "      <td>0.066779</td>\n",
       "      <td>0.035485</td>\n",
       "      <td>0.203906</td>\n",
       "      <td>0.183342</td>\n",
       "      <td>-0.083973</td>\n",
       "    </tr>\n",
       "    <tr>\n",
       "      <th>1</th>\n",
       "      <td>1</td>\n",
       "      <td>1</td>\n",
       "      <td>1</td>\n",
       "      <td>Anantapur</td>\n",
       "      <td>Penukonda</td>\n",
       "      <td>Gonipeta</td>\n",
       "      <td>14.09</td>\n",
       "      <td>77.69</td>\n",
       "      <td>Redsoil</td>\n",
       "      <td>8.40</td>\n",
       "      <td>...</td>\n",
       "      <td>0.57</td>\n",
       "      <td>3.24</td>\n",
       "      <td>0.44</td>\n",
       "      <td>6.90</td>\n",
       "      <td>G.Nut</td>\n",
       "      <td>0.074064</td>\n",
       "      <td>0.039668</td>\n",
       "      <td>0.211340</td>\n",
       "      <td>0.210912</td>\n",
       "      <td>-0.095396</td>\n",
       "    </tr>\n",
       "    <tr>\n",
       "      <th>2</th>\n",
       "      <td>2</td>\n",
       "      <td>2</td>\n",
       "      <td>2</td>\n",
       "      <td>Anantapur</td>\n",
       "      <td>Penukonda</td>\n",
       "      <td>Gonipeta</td>\n",
       "      <td>14.09</td>\n",
       "      <td>77.69</td>\n",
       "      <td>Mixed soil</td>\n",
       "      <td>7.10</td>\n",
       "      <td>...</td>\n",
       "      <td>0.19</td>\n",
       "      <td>5.54</td>\n",
       "      <td>0.42</td>\n",
       "      <td>8.34</td>\n",
       "      <td>G.Nut</td>\n",
       "      <td>0.074064</td>\n",
       "      <td>0.039668</td>\n",
       "      <td>0.211340</td>\n",
       "      <td>0.210912</td>\n",
       "      <td>-0.095396</td>\n",
       "    </tr>\n",
       "    <tr>\n",
       "      <th>3</th>\n",
       "      <td>3</td>\n",
       "      <td>3</td>\n",
       "      <td>3</td>\n",
       "      <td>Anantapur</td>\n",
       "      <td>Penukonda</td>\n",
       "      <td>Gonipeta</td>\n",
       "      <td>14.10</td>\n",
       "      <td>77.70</td>\n",
       "      <td>Sandi soil</td>\n",
       "      <td>8.30</td>\n",
       "      <td>...</td>\n",
       "      <td>0.21</td>\n",
       "      <td>1.79</td>\n",
       "      <td>0.67</td>\n",
       "      <td>4.17</td>\n",
       "      <td>Horsegram</td>\n",
       "      <td>0.079518</td>\n",
       "      <td>0.041296</td>\n",
       "      <td>0.211175</td>\n",
       "      <td>0.220463</td>\n",
       "      <td>-0.099287</td>\n",
       "    </tr>\n",
       "    <tr>\n",
       "      <th>4</th>\n",
       "      <td>4</td>\n",
       "      <td>4</td>\n",
       "      <td>4</td>\n",
       "      <td>Anantapur</td>\n",
       "      <td>Penukonda</td>\n",
       "      <td>Gonipeta</td>\n",
       "      <td>14.09</td>\n",
       "      <td>77.69</td>\n",
       "      <td>Mixed soil</td>\n",
       "      <td>6.40</td>\n",
       "      <td>...</td>\n",
       "      <td>0.22</td>\n",
       "      <td>22.26</td>\n",
       "      <td>0.45</td>\n",
       "      <td>9.20</td>\n",
       "      <td>Horsegram</td>\n",
       "      <td>0.074064</td>\n",
       "      <td>0.039668</td>\n",
       "      <td>0.211340</td>\n",
       "      <td>0.210912</td>\n",
       "      <td>-0.095396</td>\n",
       "    </tr>\n",
       "  </tbody>\n",
       "</table>\n",
       "<p>5 rows × 28 columns</p>\n",
       "</div>"
      ],
      "text/plain": [
       "   Unnamed: 0  Unnamed: 0.1  Unnamed: 0.1.1   District     Mandal   Village  \\\n",
       "0           0             0               0  Anantapur  Penukonda  Gonipeta   \n",
       "1           1             1               1  Anantapur  Penukonda  Gonipeta   \n",
       "2           2             2               2  Anantapur  Penukonda  Gonipeta   \n",
       "3           3             3               3  Anantapur  Penukonda  Gonipeta   \n",
       "4           4             4               4  Anantapur  Penukonda  Gonipeta   \n",
       "\n",
       "   Latitude  Longitude    SoilType    pH  ...     B     Fe    Cu     Mn  \\\n",
       "0     14.08      77.69  Mixed soil  6.19  ...  0.17   8.89  0.51  15.24   \n",
       "1     14.09      77.69     Redsoil  8.40  ...  0.57   3.24  0.44   6.90   \n",
       "2     14.09      77.69  Mixed soil  7.10  ...  0.19   5.54  0.42   8.34   \n",
       "3     14.10      77.70  Sandi soil  8.30  ...  0.21   1.79  0.67   4.17   \n",
       "4     14.09      77.69  Mixed soil  6.40  ...  0.22  22.26  0.45   9.20   \n",
       "\n",
       "        Crop      ndvi      arvi       evi       gci      ndwi  \n",
       "0      G.Nut  0.066779  0.035485  0.203906  0.183342 -0.083973  \n",
       "1      G.Nut  0.074064  0.039668  0.211340  0.210912 -0.095396  \n",
       "2      G.Nut  0.074064  0.039668  0.211340  0.210912 -0.095396  \n",
       "3  Horsegram  0.079518  0.041296  0.211175  0.220463 -0.099287  \n",
       "4  Horsegram  0.074064  0.039668  0.211340  0.210912 -0.095396  \n",
       "\n",
       "[5 rows x 28 columns]"
      ]
     },
     "execution_count": 6,
     "metadata": {},
     "output_type": "execute_result"
    }
   ],
   "source": [
    "soil_df.head()"
   ]
  },
  {
   "cell_type": "code",
   "execution_count": 7,
   "metadata": {},
   "outputs": [],
   "source": [
    "# Datatype of each column"
   ]
  },
  {
   "cell_type": "code",
   "execution_count": 8,
   "metadata": {},
   "outputs": [
    {
     "data": {
      "text/plain": [
       "Unnamed: 0          int64\n",
       "Unnamed: 0.1        int64\n",
       "Unnamed: 0.1.1      int64\n",
       "District           object\n",
       "Mandal             object\n",
       "Village            object\n",
       "Latitude          float64\n",
       "Longitude         float64\n",
       "SoilType           object\n",
       "pH                float64\n",
       "EC                float64\n",
       "OC                 object\n",
       "P                 float64\n",
       "K                   int64\n",
       "Ca                  int64\n",
       "Mg                  int64\n",
       "S                  object\n",
       "Zn                float64\n",
       "B                  object\n",
       "Fe                float64\n",
       "Cu                float64\n",
       "Mn                float64\n",
       "Crop               object\n",
       "ndvi              float64\n",
       "arvi              float64\n",
       "evi               float64\n",
       "gci               float64\n",
       "ndwi              float64\n",
       "dtype: object"
      ]
     },
     "execution_count": 8,
     "metadata": {},
     "output_type": "execute_result"
    }
   ],
   "source": [
    "soil_df.dtypes"
   ]
  },
  {
   "cell_type": "code",
   "execution_count": 9,
   "metadata": {},
   "outputs": [
    {
     "data": {
      "text/plain": [
       "Index(['Unnamed: 0', 'Unnamed: 0.1', 'Unnamed: 0.1.1', 'District', 'Mandal',\n",
       "       'Village', 'Latitude', 'Longitude', 'SoilType', 'pH', 'EC', 'OC', 'P',\n",
       "       'K', 'Ca', 'Mg', 'S', 'Zn', 'B', 'Fe', 'Cu', 'Mn', 'Crop', 'ndvi',\n",
       "       'arvi', 'evi', 'gci', 'ndwi'],\n",
       "      dtype='object')"
      ]
     },
     "execution_count": 9,
     "metadata": {},
     "output_type": "execute_result"
    }
   ],
   "source": [
    "soil_df.columns"
   ]
  },
  {
   "cell_type": "code",
   "execution_count": 46,
   "metadata": {},
   "outputs": [],
   "source": [
    "# Dropping the unimportant features"
   ]
  },
  {
   "cell_type": "code",
   "execution_count": 10,
   "metadata": {},
   "outputs": [],
   "source": [
    "columns_to_be_dropped = ['Unnamed: 0', 'Unnamed: 0.1', 'Unnamed: 0.1.1']\n",
    "soil_df = soil_df.drop(columns_to_be_dropped, axis=1)"
   ]
  },
  {
   "cell_type": "code",
   "execution_count": 11,
   "metadata": {},
   "outputs": [],
   "source": [
    "# Renaming some of the columns"
   ]
  },
  {
   "cell_type": "code",
   "execution_count": 12,
   "metadata": {},
   "outputs": [],
   "source": [
    "soil_df.rename(columns={'ndvi':'NDVI', 'arvi':'ARVI', 'evi':'EVI', 'gci':'GCI', 'ndwi':'NDWI'}, inplace=True)"
   ]
  },
  {
   "cell_type": "code",
   "execution_count": 13,
   "metadata": {},
   "outputs": [],
   "source": [
    "# Rearranging the columns"
   ]
  },
  {
   "cell_type": "code",
   "execution_count": 14,
   "metadata": {},
   "outputs": [],
   "source": [
    "soil_df = soil_df[['Latitude', 'Longitude', 'District', 'Mandal', 'Village', 'SoilType', 'pH', 'EC', 'OC', 'P', 'K', 'Ca', 'Mg', 'S', 'Zn', 'B', 'Fe', 'Cu', 'Mn', 'NDVI', 'ARVI', 'EVI', 'GCI', 'NDWI', 'Crop']]"
   ]
  },
  {
   "cell_type": "code",
   "execution_count": 15,
   "metadata": {},
   "outputs": [],
   "source": [
    "# Modifiying the datatypes of certain columns"
   ]
  },
  {
   "cell_type": "code",
   "execution_count": 16,
   "metadata": {},
   "outputs": [],
   "source": [
    "soil_df['K'] = soil_df['K'].astype('float')\n",
    "soil_df['Ca'] = soil_df['Ca'].astype('float')\n",
    "soil_df['Mg'] = soil_df['Mg'].astype('float')\n",
    "soil_df['S'] = pd.to_numeric(soil_df['S'], errors='coerce')\n",
    "soil_df['B'] = pd.to_numeric(soil_df['B'], errors='coerce')\n",
    "soil_df['OC'] = pd.to_numeric(soil_df['OC'], errors='coerce')"
   ]
  },
  {
   "cell_type": "code",
   "execution_count": 17,
   "metadata": {},
   "outputs": [],
   "source": [
    "# Dropping rows with missing values"
   ]
  },
  {
   "cell_type": "code",
   "execution_count": 18,
   "metadata": {},
   "outputs": [],
   "source": [
    "soil_df = soil_df.dropna()"
   ]
  },
  {
   "cell_type": "code",
   "execution_count": 19,
   "metadata": {},
   "outputs": [],
   "source": [
    "# Columns of the dataframe after preprocessing"
   ]
  },
  {
   "cell_type": "code",
   "execution_count": 20,
   "metadata": {},
   "outputs": [
    {
     "data": {
      "text/plain": [
       "Latitude     float64\n",
       "Longitude    float64\n",
       "District      object\n",
       "Mandal        object\n",
       "Village       object\n",
       "SoilType      object\n",
       "pH           float64\n",
       "EC           float64\n",
       "OC           float64\n",
       "P            float64\n",
       "K            float64\n",
       "Ca           float64\n",
       "Mg           float64\n",
       "S            float64\n",
       "Zn           float64\n",
       "B            float64\n",
       "Fe           float64\n",
       "Cu           float64\n",
       "Mn           float64\n",
       "NDVI         float64\n",
       "ARVI         float64\n",
       "EVI          float64\n",
       "GCI          float64\n",
       "NDWI         float64\n",
       "Crop          object\n",
       "dtype: object"
      ]
     },
     "execution_count": 20,
     "metadata": {},
     "output_type": "execute_result"
    }
   ],
   "source": [
    "soil_df.dtypes"
   ]
  },
  {
   "cell_type": "code",
   "execution_count": 21,
   "metadata": {},
   "outputs": [],
   "source": [
    "# Descriptive statistics of the dataframe"
   ]
  },
  {
   "cell_type": "code",
   "execution_count": 22,
   "metadata": {},
   "outputs": [
    {
     "data": {
      "text/html": [
       "<div>\n",
       "<style scoped>\n",
       "    .dataframe tbody tr th:only-of-type {\n",
       "        vertical-align: middle;\n",
       "    }\n",
       "\n",
       "    .dataframe tbody tr th {\n",
       "        vertical-align: top;\n",
       "    }\n",
       "\n",
       "    .dataframe thead th {\n",
       "        text-align: right;\n",
       "    }\n",
       "</style>\n",
       "<table border=\"1\" class=\"dataframe\">\n",
       "  <thead>\n",
       "    <tr style=\"text-align: right;\">\n",
       "      <th></th>\n",
       "      <th>Latitude</th>\n",
       "      <th>Longitude</th>\n",
       "      <th>pH</th>\n",
       "      <th>EC</th>\n",
       "      <th>OC</th>\n",
       "      <th>P</th>\n",
       "      <th>K</th>\n",
       "      <th>Ca</th>\n",
       "      <th>Mg</th>\n",
       "      <th>S</th>\n",
       "      <th>Zn</th>\n",
       "      <th>B</th>\n",
       "      <th>Fe</th>\n",
       "      <th>Cu</th>\n",
       "      <th>Mn</th>\n",
       "      <th>NDVI</th>\n",
       "      <th>ARVI</th>\n",
       "      <th>EVI</th>\n",
       "      <th>GCI</th>\n",
       "      <th>NDWI</th>\n",
       "    </tr>\n",
       "  </thead>\n",
       "  <tbody>\n",
       "    <tr>\n",
       "      <th>count</th>\n",
       "      <td>4548.000000</td>\n",
       "      <td>4548.000000</td>\n",
       "      <td>4548.000000</td>\n",
       "      <td>4548.000000</td>\n",
       "      <td>4548.000000</td>\n",
       "      <td>4548.000000</td>\n",
       "      <td>4548.000000</td>\n",
       "      <td>4548.000000</td>\n",
       "      <td>4548.000000</td>\n",
       "      <td>4548.000000</td>\n",
       "      <td>4548.000000</td>\n",
       "      <td>4548.000000</td>\n",
       "      <td>4548.000000</td>\n",
       "      <td>4548.000000</td>\n",
       "      <td>4548.000000</td>\n",
       "      <td>4548.000000</td>\n",
       "      <td>4548.000000</td>\n",
       "      <td>4548.000000</td>\n",
       "      <td>4548.000000</td>\n",
       "      <td>4548.000000</td>\n",
       "    </tr>\n",
       "    <tr>\n",
       "      <th>mean</th>\n",
       "      <td>15.935031</td>\n",
       "      <td>80.516781</td>\n",
       "      <td>7.499131</td>\n",
       "      <td>0.506174</td>\n",
       "      <td>0.481293</td>\n",
       "      <td>16.849976</td>\n",
       "      <td>161.680299</td>\n",
       "      <td>2464.104881</td>\n",
       "      <td>536.439754</td>\n",
       "      <td>50.021953</td>\n",
       "      <td>1.126480</td>\n",
       "      <td>1.197718</td>\n",
       "      <td>28.952274</td>\n",
       "      <td>2.606788</td>\n",
       "      <td>18.676603</td>\n",
       "      <td>0.151974</td>\n",
       "      <td>0.103251</td>\n",
       "      <td>0.324110</td>\n",
       "      <td>0.441539</td>\n",
       "      <td>-0.151080</td>\n",
       "    </tr>\n",
       "    <tr>\n",
       "      <th>std</th>\n",
       "      <td>1.736613</td>\n",
       "      <td>2.025771</td>\n",
       "      <td>1.042191</td>\n",
       "      <td>1.069293</td>\n",
       "      <td>0.257317</td>\n",
       "      <td>18.630372</td>\n",
       "      <td>138.019218</td>\n",
       "      <td>2168.896304</td>\n",
       "      <td>479.938432</td>\n",
       "      <td>118.915436</td>\n",
       "      <td>1.400856</td>\n",
       "      <td>1.017130</td>\n",
       "      <td>39.180955</td>\n",
       "      <td>3.123630</td>\n",
       "      <td>18.901513</td>\n",
       "      <td>0.158884</td>\n",
       "      <td>0.119709</td>\n",
       "      <td>0.236646</td>\n",
       "      <td>0.546831</td>\n",
       "      <td>0.137768</td>\n",
       "    </tr>\n",
       "    <tr>\n",
       "      <th>min</th>\n",
       "      <td>12.810000</td>\n",
       "      <td>75.280000</td>\n",
       "      <td>4.450000</td>\n",
       "      <td>0.010000</td>\n",
       "      <td>0.010000</td>\n",
       "      <td>0.450000</td>\n",
       "      <td>12.000000</td>\n",
       "      <td>46.000000</td>\n",
       "      <td>4.000000</td>\n",
       "      <td>0.100000</td>\n",
       "      <td>0.030000</td>\n",
       "      <td>0.030000</td>\n",
       "      <td>0.040000</td>\n",
       "      <td>0.030000</td>\n",
       "      <td>0.010000</td>\n",
       "      <td>-0.191858</td>\n",
       "      <td>-0.009621</td>\n",
       "      <td>-0.166977</td>\n",
       "      <td>-0.551334</td>\n",
       "      <td>-0.669077</td>\n",
       "    </tr>\n",
       "    <tr>\n",
       "      <th>25%</th>\n",
       "      <td>14.530000</td>\n",
       "      <td>78.970000</td>\n",
       "      <td>6.800000</td>\n",
       "      <td>0.120000</td>\n",
       "      <td>0.290000</td>\n",
       "      <td>5.260000</td>\n",
       "      <td>83.000000</td>\n",
       "      <td>865.000000</td>\n",
       "      <td>191.000000</td>\n",
       "      <td>4.817500</td>\n",
       "      <td>0.420000</td>\n",
       "      <td>0.480000</td>\n",
       "      <td>5.790000</td>\n",
       "      <td>0.940000</td>\n",
       "      <td>8.107500</td>\n",
       "      <td>0.027127</td>\n",
       "      <td>0.019677</td>\n",
       "      <td>0.178998</td>\n",
       "      <td>0.079963</td>\n",
       "      <td>-0.224751</td>\n",
       "    </tr>\n",
       "    <tr>\n",
       "      <th>50%</th>\n",
       "      <td>15.550000</td>\n",
       "      <td>80.080000</td>\n",
       "      <td>7.820000</td>\n",
       "      <td>0.230000</td>\n",
       "      <td>0.440000</td>\n",
       "      <td>11.180000</td>\n",
       "      <td>130.000000</td>\n",
       "      <td>1704.500000</td>\n",
       "      <td>386.500000</td>\n",
       "      <td>11.735000</td>\n",
       "      <td>0.720000</td>\n",
       "      <td>0.915000</td>\n",
       "      <td>12.430000</td>\n",
       "      <td>1.500000</td>\n",
       "      <td>12.920000</td>\n",
       "      <td>0.091129</td>\n",
       "      <td>0.056920</td>\n",
       "      <td>0.269806</td>\n",
       "      <td>0.222914</td>\n",
       "      <td>-0.100280</td>\n",
       "    </tr>\n",
       "    <tr>\n",
       "      <th>75%</th>\n",
       "      <td>17.720000</td>\n",
       "      <td>82.500000</td>\n",
       "      <td>8.280000</td>\n",
       "      <td>0.530000</td>\n",
       "      <td>0.630000</td>\n",
       "      <td>21.785000</td>\n",
       "      <td>198.000000</td>\n",
       "      <td>3231.000000</td>\n",
       "      <td>740.000000</td>\n",
       "      <td>37.007500</td>\n",
       "      <td>1.270000</td>\n",
       "      <td>1.620000</td>\n",
       "      <td>34.970000</td>\n",
       "      <td>2.700000</td>\n",
       "      <td>21.840000</td>\n",
       "      <td>0.220843</td>\n",
       "      <td>0.138438</td>\n",
       "      <td>0.443250</td>\n",
       "      <td>0.579816</td>\n",
       "      <td>-0.038445</td>\n",
       "    </tr>\n",
       "    <tr>\n",
       "      <th>max</th>\n",
       "      <td>18.800000</td>\n",
       "      <td>84.190000</td>\n",
       "      <td>9.890000</td>\n",
       "      <td>27.500000</td>\n",
       "      <td>2.640000</td>\n",
       "      <td>361.940000</td>\n",
       "      <td>2409.000000</td>\n",
       "      <td>13304.000000</td>\n",
       "      <td>5363.000000</td>\n",
       "      <td>2539.580000</td>\n",
       "      <td>23.920000</td>\n",
       "      <td>13.730000</td>\n",
       "      <td>354.700000</td>\n",
       "      <td>20.180000</td>\n",
       "      <td>256.880000</td>\n",
       "      <td>0.803907</td>\n",
       "      <td>0.699015</td>\n",
       "      <td>4.543434</td>\n",
       "      <td>4.043696</td>\n",
       "      <td>0.380581</td>\n",
       "    </tr>\n",
       "  </tbody>\n",
       "</table>\n",
       "</div>"
      ],
      "text/plain": [
       "          Latitude    Longitude           pH           EC           OC  \\\n",
       "count  4548.000000  4548.000000  4548.000000  4548.000000  4548.000000   \n",
       "mean     15.935031    80.516781     7.499131     0.506174     0.481293   \n",
       "std       1.736613     2.025771     1.042191     1.069293     0.257317   \n",
       "min      12.810000    75.280000     4.450000     0.010000     0.010000   \n",
       "25%      14.530000    78.970000     6.800000     0.120000     0.290000   \n",
       "50%      15.550000    80.080000     7.820000     0.230000     0.440000   \n",
       "75%      17.720000    82.500000     8.280000     0.530000     0.630000   \n",
       "max      18.800000    84.190000     9.890000    27.500000     2.640000   \n",
       "\n",
       "                 P            K            Ca           Mg            S  \\\n",
       "count  4548.000000  4548.000000   4548.000000  4548.000000  4548.000000   \n",
       "mean     16.849976   161.680299   2464.104881   536.439754    50.021953   \n",
       "std      18.630372   138.019218   2168.896304   479.938432   118.915436   \n",
       "min       0.450000    12.000000     46.000000     4.000000     0.100000   \n",
       "25%       5.260000    83.000000    865.000000   191.000000     4.817500   \n",
       "50%      11.180000   130.000000   1704.500000   386.500000    11.735000   \n",
       "75%      21.785000   198.000000   3231.000000   740.000000    37.007500   \n",
       "max     361.940000  2409.000000  13304.000000  5363.000000  2539.580000   \n",
       "\n",
       "                Zn            B           Fe           Cu           Mn  \\\n",
       "count  4548.000000  4548.000000  4548.000000  4548.000000  4548.000000   \n",
       "mean      1.126480     1.197718    28.952274     2.606788    18.676603   \n",
       "std       1.400856     1.017130    39.180955     3.123630    18.901513   \n",
       "min       0.030000     0.030000     0.040000     0.030000     0.010000   \n",
       "25%       0.420000     0.480000     5.790000     0.940000     8.107500   \n",
       "50%       0.720000     0.915000    12.430000     1.500000    12.920000   \n",
       "75%       1.270000     1.620000    34.970000     2.700000    21.840000   \n",
       "max      23.920000    13.730000   354.700000    20.180000   256.880000   \n",
       "\n",
       "              NDVI         ARVI          EVI          GCI         NDWI  \n",
       "count  4548.000000  4548.000000  4548.000000  4548.000000  4548.000000  \n",
       "mean      0.151974     0.103251     0.324110     0.441539    -0.151080  \n",
       "std       0.158884     0.119709     0.236646     0.546831     0.137768  \n",
       "min      -0.191858    -0.009621    -0.166977    -0.551334    -0.669077  \n",
       "25%       0.027127     0.019677     0.178998     0.079963    -0.224751  \n",
       "50%       0.091129     0.056920     0.269806     0.222914    -0.100280  \n",
       "75%       0.220843     0.138438     0.443250     0.579816    -0.038445  \n",
       "max       0.803907     0.699015     4.543434     4.043696     0.380581  "
      ]
     },
     "execution_count": 22,
     "metadata": {},
     "output_type": "execute_result"
    }
   ],
   "source": [
    "soil_df.describe()"
   ]
  },
  {
   "cell_type": "code",
   "execution_count": 23,
   "metadata": {},
   "outputs": [],
   "source": [
    "# Saving the cleaned dataframe as a csv file called 'Cleaned_Soil.csv'"
   ]
  },
  {
   "cell_type": "code",
   "execution_count": 24,
   "metadata": {},
   "outputs": [],
   "source": [
    "soil_df.to_csv('Cleaned_Soil.csv')"
   ]
  },
  {
   "cell_type": "code",
   "execution_count": 25,
   "metadata": {},
   "outputs": [],
   "source": [
    "# List of Districts "
   ]
  },
  {
   "cell_type": "code",
   "execution_count": 26,
   "metadata": {},
   "outputs": [
    {
     "data": {
      "text/plain": [
       "['Anantapur',\n",
       " 'Chittoor',\n",
       " 'East Godavari',\n",
       " 'Guntur',\n",
       " 'Kadapa',\n",
       " 'Krishna',\n",
       " 'Kurnool',\n",
       " 'Nellore',\n",
       " 'Prakasam',\n",
       " 'Srikakulam',\n",
       " 'Visakhapatnam',\n",
       " 'Vizianagaram',\n",
       " 'West Godavari']"
      ]
     },
     "execution_count": 26,
     "metadata": {},
     "output_type": "execute_result"
    }
   ],
   "source": [
    "list(soil_df['District'].unique())"
   ]
  },
  {
   "cell_type": "code",
   "execution_count": 27,
   "metadata": {},
   "outputs": [
    {
     "data": {
      "text/plain": [
       "Index(['Latitude', 'Longitude', 'District', 'Mandal', 'Village', 'SoilType',\n",
       "       'pH', 'EC', 'OC', 'P', 'K', 'Ca', 'Mg', 'S', 'Zn', 'B', 'Fe', 'Cu',\n",
       "       'Mn', 'NDVI', 'ARVI', 'EVI', 'GCI', 'NDWI', 'Crop'],\n",
       "      dtype='object')"
      ]
     },
     "execution_count": 27,
     "metadata": {},
     "output_type": "execute_result"
    }
   ],
   "source": [
    "soil_df.columns"
   ]
  }
 ],
 "metadata": {
  "kernelspec": {
   "display_name": "Python 3",
   "language": "python",
   "name": "python3"
  },
  "language_info": {
   "codemirror_mode": {
    "name": "ipython",
    "version": 3
   },
   "file_extension": ".py",
   "mimetype": "text/x-python",
   "name": "python",
   "nbconvert_exporter": "python",
   "pygments_lexer": "ipython3",
   "version": "3.8.8"
  }
 },
 "nbformat": 4,
 "nbformat_minor": 4
}
