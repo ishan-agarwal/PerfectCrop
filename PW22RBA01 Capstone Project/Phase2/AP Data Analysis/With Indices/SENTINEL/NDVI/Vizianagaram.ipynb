{
 "cells": [
  {
   "cell_type": "code",
   "execution_count": 1,
   "metadata": {},
   "outputs": [],
   "source": [
    "# Importing the required modules"
   ]
  },
  {
   "cell_type": "code",
   "execution_count": 2,
   "metadata": {},
   "outputs": [],
   "source": [
    "import numpy as np\n",
    "import matplotlib.pyplot as plt\n",
    "import pandas as pd\n",
    "import seaborn as sns\n",
    "from sklearn.compose import ColumnTransformer\n",
    "from sklearn.preprocessing import OneHotEncoder, LabelEncoder\n",
    "from sklearn.model_selection import train_test_split, cross_val_score, StratifiedShuffleSplit\n",
    "from sklearn.preprocessing import StandardScaler\n",
    "from sklearn.neighbors import KNeighborsClassifier\n",
    "from sklearn.tree import DecisionTreeClassifier\n",
    "from sklearn.experimental import enable_hist_gradient_boosting\n",
    "from sklearn.ensemble import RandomForestClassifier, HistGradientBoostingClassifier\n",
    "from sklearn.neural_network import MLPClassifier\n",
    "from sklearn.metrics import accuracy_score\n",
    "from imblearn.over_sampling import SMOTE\n",
    "from xgboost import XGBClassifier\n",
    "import pickle\n",
    "import warnings\n",
    "warnings.filterwarnings('ignore')\n",
    "plt.rcParams['figure.figsize'] = (10,6)"
   ]
  },
  {
   "cell_type": "code",
   "execution_count": 3,
   "metadata": {},
   "outputs": [],
   "source": [
    "# Importing the dataset\n",
    "df = pd.read_csv('Cleaned_Soil.csv')"
   ]
  },
  {
   "cell_type": "code",
   "execution_count": 4,
   "metadata": {},
   "outputs": [],
   "source": [
    "# Obtaining data specific to Anantapur"
   ]
  },
  {
   "cell_type": "code",
   "execution_count": 5,
   "metadata": {},
   "outputs": [
    {
     "data": {
      "text/html": [
       "<div>\n",
       "<style scoped>\n",
       "    .dataframe tbody tr th:only-of-type {\n",
       "        vertical-align: middle;\n",
       "    }\n",
       "\n",
       "    .dataframe tbody tr th {\n",
       "        vertical-align: top;\n",
       "    }\n",
       "\n",
       "    .dataframe thead th {\n",
       "        text-align: right;\n",
       "    }\n",
       "</style>\n",
       "<table border=\"1\" class=\"dataframe\">\n",
       "  <thead>\n",
       "    <tr style=\"text-align: right;\">\n",
       "      <th></th>\n",
       "      <th>Unnamed: 0</th>\n",
       "      <th>Latitude</th>\n",
       "      <th>Longitude</th>\n",
       "      <th>District</th>\n",
       "      <th>Mandal</th>\n",
       "      <th>Village</th>\n",
       "      <th>SoilType</th>\n",
       "      <th>pH</th>\n",
       "      <th>EC</th>\n",
       "      <th>OC</th>\n",
       "      <th>...</th>\n",
       "      <th>B</th>\n",
       "      <th>Fe</th>\n",
       "      <th>Cu</th>\n",
       "      <th>Mn</th>\n",
       "      <th>NDVI</th>\n",
       "      <th>ARVI</th>\n",
       "      <th>EVI</th>\n",
       "      <th>GCI</th>\n",
       "      <th>NDWI</th>\n",
       "      <th>Crop</th>\n",
       "    </tr>\n",
       "  </thead>\n",
       "  <tbody>\n",
       "    <tr>\n",
       "      <th>3744</th>\n",
       "      <td>3747</td>\n",
       "      <td>18.75</td>\n",
       "      <td>83.31</td>\n",
       "      <td>Vizianagaram</td>\n",
       "      <td>Parvathipuram</td>\n",
       "      <td>Challam Valasa</td>\n",
       "      <td>Black</td>\n",
       "      <td>8.46</td>\n",
       "      <td>0.24</td>\n",
       "      <td>0.19</td>\n",
       "      <td>...</td>\n",
       "      <td>0.25</td>\n",
       "      <td>13.79</td>\n",
       "      <td>1.39</td>\n",
       "      <td>6.48</td>\n",
       "      <td>0.604339</td>\n",
       "      <td>0.455705</td>\n",
       "      <td>0.635263</td>\n",
       "      <td>2.279320</td>\n",
       "      <td>-0.532636</td>\n",
       "      <td>Blackgram</td>\n",
       "    </tr>\n",
       "    <tr>\n",
       "      <th>3745</th>\n",
       "      <td>3748</td>\n",
       "      <td>18.76</td>\n",
       "      <td>83.31</td>\n",
       "      <td>Vizianagaram</td>\n",
       "      <td>Parvathipuram</td>\n",
       "      <td>Challam Valasa</td>\n",
       "      <td>Sandy</td>\n",
       "      <td>4.85</td>\n",
       "      <td>0.03</td>\n",
       "      <td>0.11</td>\n",
       "      <td>...</td>\n",
       "      <td>0.13</td>\n",
       "      <td>26.18</td>\n",
       "      <td>0.56</td>\n",
       "      <td>27.57</td>\n",
       "      <td>0.491363</td>\n",
       "      <td>0.335857</td>\n",
       "      <td>0.602591</td>\n",
       "      <td>1.612587</td>\n",
       "      <td>-0.446380</td>\n",
       "      <td>Sandy</td>\n",
       "    </tr>\n",
       "    <tr>\n",
       "      <th>3746</th>\n",
       "      <td>3749</td>\n",
       "      <td>18.75</td>\n",
       "      <td>83.31</td>\n",
       "      <td>Vizianagaram</td>\n",
       "      <td>Parvathipuram</td>\n",
       "      <td>Challam Valasa</td>\n",
       "      <td>Black</td>\n",
       "      <td>6.15</td>\n",
       "      <td>0.15</td>\n",
       "      <td>0.65</td>\n",
       "      <td>...</td>\n",
       "      <td>0.31</td>\n",
       "      <td>61.89</td>\n",
       "      <td>2.58</td>\n",
       "      <td>17.93</td>\n",
       "      <td>0.604339</td>\n",
       "      <td>0.455705</td>\n",
       "      <td>0.635263</td>\n",
       "      <td>2.279320</td>\n",
       "      <td>-0.532636</td>\n",
       "      <td>Paddy</td>\n",
       "    </tr>\n",
       "    <tr>\n",
       "      <th>3747</th>\n",
       "      <td>3750</td>\n",
       "      <td>18.76</td>\n",
       "      <td>83.30</td>\n",
       "      <td>Vizianagaram</td>\n",
       "      <td>Parvathipuram</td>\n",
       "      <td>Challam Valasa</td>\n",
       "      <td>Black</td>\n",
       "      <td>5.62</td>\n",
       "      <td>0.09</td>\n",
       "      <td>0.70</td>\n",
       "      <td>...</td>\n",
       "      <td>0.38</td>\n",
       "      <td>110.16</td>\n",
       "      <td>3.16</td>\n",
       "      <td>16.98</td>\n",
       "      <td>0.504809</td>\n",
       "      <td>0.362128</td>\n",
       "      <td>0.747147</td>\n",
       "      <td>1.599631</td>\n",
       "      <td>-0.444387</td>\n",
       "      <td>Paddy</td>\n",
       "    </tr>\n",
       "    <tr>\n",
       "      <th>3748</th>\n",
       "      <td>3751</td>\n",
       "      <td>18.75</td>\n",
       "      <td>83.32</td>\n",
       "      <td>Vizianagaram</td>\n",
       "      <td>Parvathipuram</td>\n",
       "      <td>Challam Valasa</td>\n",
       "      <td>Black</td>\n",
       "      <td>6.86</td>\n",
       "      <td>0.30</td>\n",
       "      <td>0.89</td>\n",
       "      <td>...</td>\n",
       "      <td>0.70</td>\n",
       "      <td>84.45</td>\n",
       "      <td>4.05</td>\n",
       "      <td>47.29</td>\n",
       "      <td>0.678606</td>\n",
       "      <td>0.544107</td>\n",
       "      <td>0.840633</td>\n",
       "      <td>2.761378</td>\n",
       "      <td>-0.579954</td>\n",
       "      <td>Blackgram</td>\n",
       "    </tr>\n",
       "  </tbody>\n",
       "</table>\n",
       "<p>5 rows × 26 columns</p>\n",
       "</div>"
      ],
      "text/plain": [
       "      Unnamed: 0  Latitude  Longitude      District         Mandal  \\\n",
       "3744        3747     18.75      83.31  Vizianagaram  Parvathipuram   \n",
       "3745        3748     18.76      83.31  Vizianagaram  Parvathipuram   \n",
       "3746        3749     18.75      83.31  Vizianagaram  Parvathipuram   \n",
       "3747        3750     18.76      83.30  Vizianagaram  Parvathipuram   \n",
       "3748        3751     18.75      83.32  Vizianagaram  Parvathipuram   \n",
       "\n",
       "             Village SoilType    pH    EC    OC  ...     B      Fe    Cu  \\\n",
       "3744  Challam Valasa    Black  8.46  0.24  0.19  ...  0.25   13.79  1.39   \n",
       "3745  Challam Valasa    Sandy  4.85  0.03  0.11  ...  0.13   26.18  0.56   \n",
       "3746  Challam Valasa    Black  6.15  0.15  0.65  ...  0.31   61.89  2.58   \n",
       "3747  Challam Valasa    Black  5.62  0.09  0.70  ...  0.38  110.16  3.16   \n",
       "3748  Challam Valasa    Black  6.86  0.30  0.89  ...  0.70   84.45  4.05   \n",
       "\n",
       "         Mn      NDVI      ARVI       EVI       GCI      NDWI       Crop  \n",
       "3744   6.48  0.604339  0.455705  0.635263  2.279320 -0.532636  Blackgram  \n",
       "3745  27.57  0.491363  0.335857  0.602591  1.612587 -0.446380      Sandy  \n",
       "3746  17.93  0.604339  0.455705  0.635263  2.279320 -0.532636      Paddy  \n",
       "3747  16.98  0.504809  0.362128  0.747147  1.599631 -0.444387      Paddy  \n",
       "3748  47.29  0.678606  0.544107  0.840633  2.761378 -0.579954  Blackgram  \n",
       "\n",
       "[5 rows x 26 columns]"
      ]
     },
     "execution_count": 5,
     "metadata": {},
     "output_type": "execute_result"
    }
   ],
   "source": [
    "df = df[df['District'] == 'Vizianagaram']\n",
    "df.head()"
   ]
  },
  {
   "cell_type": "code",
   "execution_count": 6,
   "metadata": {},
   "outputs": [
    {
     "data": {
      "text/html": [
       "<div>\n",
       "<style scoped>\n",
       "    .dataframe tbody tr th:only-of-type {\n",
       "        vertical-align: middle;\n",
       "    }\n",
       "\n",
       "    .dataframe tbody tr th {\n",
       "        vertical-align: top;\n",
       "    }\n",
       "\n",
       "    .dataframe thead th {\n",
       "        text-align: right;\n",
       "    }\n",
       "</style>\n",
       "<table border=\"1\" class=\"dataframe\">\n",
       "  <thead>\n",
       "    <tr style=\"text-align: right;\">\n",
       "      <th></th>\n",
       "      <th>pH</th>\n",
       "      <th>EC</th>\n",
       "      <th>OC</th>\n",
       "      <th>P</th>\n",
       "      <th>K</th>\n",
       "      <th>Ca</th>\n",
       "      <th>Mg</th>\n",
       "      <th>S</th>\n",
       "      <th>Zn</th>\n",
       "      <th>B</th>\n",
       "      <th>Fe</th>\n",
       "      <th>Cu</th>\n",
       "      <th>Mn</th>\n",
       "      <th>NDVI</th>\n",
       "    </tr>\n",
       "  </thead>\n",
       "  <tbody>\n",
       "    <tr>\n",
       "      <th>count</th>\n",
       "      <td>491.000000</td>\n",
       "      <td>491.000000</td>\n",
       "      <td>491.000000</td>\n",
       "      <td>491.000000</td>\n",
       "      <td>491.000000</td>\n",
       "      <td>491.000000</td>\n",
       "      <td>491.000000</td>\n",
       "      <td>491.000000</td>\n",
       "      <td>491.000000</td>\n",
       "      <td>491.000000</td>\n",
       "      <td>491.000000</td>\n",
       "      <td>491.000000</td>\n",
       "      <td>491.000000</td>\n",
       "      <td>491.000000</td>\n",
       "    </tr>\n",
       "    <tr>\n",
       "      <th>mean</th>\n",
       "      <td>6.763747</td>\n",
       "      <td>0.291120</td>\n",
       "      <td>0.482342</td>\n",
       "      <td>11.691874</td>\n",
       "      <td>127.775967</td>\n",
       "      <td>1216.181263</td>\n",
       "      <td>300.458248</td>\n",
       "      <td>16.410978</td>\n",
       "      <td>0.880265</td>\n",
       "      <td>0.969328</td>\n",
       "      <td>46.068758</td>\n",
       "      <td>2.190916</td>\n",
       "      <td>33.159002</td>\n",
       "      <td>0.413288</td>\n",
       "    </tr>\n",
       "    <tr>\n",
       "      <th>std</th>\n",
       "      <td>1.175368</td>\n",
       "      <td>0.527502</td>\n",
       "      <td>0.187164</td>\n",
       "      <td>11.915978</td>\n",
       "      <td>94.141766</td>\n",
       "      <td>745.193780</td>\n",
       "      <td>204.656147</td>\n",
       "      <td>24.794001</td>\n",
       "      <td>0.796994</td>\n",
       "      <td>0.715113</td>\n",
       "      <td>42.332614</td>\n",
       "      <td>1.178898</td>\n",
       "      <td>24.745429</td>\n",
       "      <td>0.183219</td>\n",
       "    </tr>\n",
       "    <tr>\n",
       "      <th>min</th>\n",
       "      <td>4.770000</td>\n",
       "      <td>0.020000</td>\n",
       "      <td>0.030000</td>\n",
       "      <td>1.240000</td>\n",
       "      <td>12.000000</td>\n",
       "      <td>74.000000</td>\n",
       "      <td>10.000000</td>\n",
       "      <td>0.240000</td>\n",
       "      <td>0.120000</td>\n",
       "      <td>0.130000</td>\n",
       "      <td>2.180000</td>\n",
       "      <td>0.300000</td>\n",
       "      <td>3.150000</td>\n",
       "      <td>0.074499</td>\n",
       "    </tr>\n",
       "    <tr>\n",
       "      <th>25%</th>\n",
       "      <td>5.635000</td>\n",
       "      <td>0.090000</td>\n",
       "      <td>0.360000</td>\n",
       "      <td>4.095000</td>\n",
       "      <td>70.500000</td>\n",
       "      <td>660.000000</td>\n",
       "      <td>134.500000</td>\n",
       "      <td>5.175000</td>\n",
       "      <td>0.470000</td>\n",
       "      <td>0.415000</td>\n",
       "      <td>12.450000</td>\n",
       "      <td>1.220000</td>\n",
       "      <td>15.880000</td>\n",
       "      <td>0.249393</td>\n",
       "    </tr>\n",
       "    <tr>\n",
       "      <th>50%</th>\n",
       "      <td>6.830000</td>\n",
       "      <td>0.170000</td>\n",
       "      <td>0.470000</td>\n",
       "      <td>6.670000</td>\n",
       "      <td>108.000000</td>\n",
       "      <td>1066.000000</td>\n",
       "      <td>260.000000</td>\n",
       "      <td>9.870000</td>\n",
       "      <td>0.680000</td>\n",
       "      <td>0.680000</td>\n",
       "      <td>30.520000</td>\n",
       "      <td>2.000000</td>\n",
       "      <td>27.570000</td>\n",
       "      <td>0.440109</td>\n",
       "    </tr>\n",
       "    <tr>\n",
       "      <th>75%</th>\n",
       "      <td>7.850000</td>\n",
       "      <td>0.300000</td>\n",
       "      <td>0.600000</td>\n",
       "      <td>14.810000</td>\n",
       "      <td>149.500000</td>\n",
       "      <td>1613.500000</td>\n",
       "      <td>429.000000</td>\n",
       "      <td>18.895000</td>\n",
       "      <td>0.970000</td>\n",
       "      <td>1.405000</td>\n",
       "      <td>70.660000</td>\n",
       "      <td>2.975000</td>\n",
       "      <td>40.355000</td>\n",
       "      <td>0.532047</td>\n",
       "    </tr>\n",
       "    <tr>\n",
       "      <th>max</th>\n",
       "      <td>9.500000</td>\n",
       "      <td>8.500000</td>\n",
       "      <td>1.310000</td>\n",
       "      <td>85.240000</td>\n",
       "      <td>809.000000</td>\n",
       "      <td>4246.000000</td>\n",
       "      <td>1308.000000</td>\n",
       "      <td>328.670000</td>\n",
       "      <td>7.320000</td>\n",
       "      <td>3.740000</td>\n",
       "      <td>236.900000</td>\n",
       "      <td>7.290000</td>\n",
       "      <td>163.030000</td>\n",
       "      <td>0.765930</td>\n",
       "    </tr>\n",
       "  </tbody>\n",
       "</table>\n",
       "</div>"
      ],
      "text/plain": [
       "               pH          EC          OC           P           K  \\\n",
       "count  491.000000  491.000000  491.000000  491.000000  491.000000   \n",
       "mean     6.763747    0.291120    0.482342   11.691874  127.775967   \n",
       "std      1.175368    0.527502    0.187164   11.915978   94.141766   \n",
       "min      4.770000    0.020000    0.030000    1.240000   12.000000   \n",
       "25%      5.635000    0.090000    0.360000    4.095000   70.500000   \n",
       "50%      6.830000    0.170000    0.470000    6.670000  108.000000   \n",
       "75%      7.850000    0.300000    0.600000   14.810000  149.500000   \n",
       "max      9.500000    8.500000    1.310000   85.240000  809.000000   \n",
       "\n",
       "                Ca           Mg           S          Zn           B  \\\n",
       "count   491.000000   491.000000  491.000000  491.000000  491.000000   \n",
       "mean   1216.181263   300.458248   16.410978    0.880265    0.969328   \n",
       "std     745.193780   204.656147   24.794001    0.796994    0.715113   \n",
       "min      74.000000    10.000000    0.240000    0.120000    0.130000   \n",
       "25%     660.000000   134.500000    5.175000    0.470000    0.415000   \n",
       "50%    1066.000000   260.000000    9.870000    0.680000    0.680000   \n",
       "75%    1613.500000   429.000000   18.895000    0.970000    1.405000   \n",
       "max    4246.000000  1308.000000  328.670000    7.320000    3.740000   \n",
       "\n",
       "               Fe          Cu          Mn        NDVI  \n",
       "count  491.000000  491.000000  491.000000  491.000000  \n",
       "mean    46.068758    2.190916   33.159002    0.413288  \n",
       "std     42.332614    1.178898   24.745429    0.183219  \n",
       "min      2.180000    0.300000    3.150000    0.074499  \n",
       "25%     12.450000    1.220000   15.880000    0.249393  \n",
       "50%     30.520000    2.000000   27.570000    0.440109  \n",
       "75%     70.660000    2.975000   40.355000    0.532047  \n",
       "max    236.900000    7.290000  163.030000    0.765930  "
      ]
     },
     "execution_count": 6,
     "metadata": {},
     "output_type": "execute_result"
    }
   ],
   "source": [
    "# Dropping unnecessary columns\n",
    "df = df.drop(['Unnamed: 0', 'Latitude', 'Longitude', 'District', 'Mandal', 'Village', 'ARVI', 'EVI', 'GCI', 'NDWI'], axis = 1)\n",
    "df.describe()"
   ]
  },
  {
   "cell_type": "code",
   "execution_count": 7,
   "metadata": {},
   "outputs": [],
   "source": [
    "# Analysis of SoilType"
   ]
  },
  {
   "cell_type": "code",
   "execution_count": 8,
   "metadata": {},
   "outputs": [
    {
     "data": {
      "text/plain": [
       "array(['Black', 'Sandy', 'Red', 'Sandy Loam', 'Loam', 'White',\n",
       "       'Sandyloam', 'Red Sandy', 'Sandy ', 'Black ', 'Sand',\n",
       "       'Sandy Loam ', 'Cashewnut'], dtype=object)"
      ]
     },
     "execution_count": 8,
     "metadata": {},
     "output_type": "execute_result"
    }
   ],
   "source": [
    "df.SoilType.unique()"
   ]
  },
  {
   "cell_type": "code",
   "execution_count": 9,
   "metadata": {},
   "outputs": [
    {
     "data": {
      "text/plain": [
       "array(['Black Soil', 'Sandy Soil', 'Red Soil', 'Sandy Loam Soil',\n",
       "       'Loam Soil'], dtype=object)"
      ]
     },
     "execution_count": 9,
     "metadata": {},
     "output_type": "execute_result"
    }
   ],
   "source": [
    "df['SoilType'] = df['SoilType'].replace(['Black ', 'Black'], 'Black Soil')\n",
    "df['SoilType'] = df['SoilType'].replace(['Red'], 'Red Soil')\n",
    "df['SoilType'] = df['SoilType'].replace(['Sandy', 'Sandy ', 'Sand', 'Red Sandy'], 'Sandy Soil')\n",
    "df['SoilType'] = df['SoilType'].replace(['Sandy Loam ', 'Sandyloam', 'Sandy Loam'], 'Sandy Loam Soil')\n",
    "df['SoilType'] = df['SoilType'].replace('Loam', 'Loam Soil')\n",
    "df = df[(df[\"SoilType\"] != 'Cashewnut') & (df[\"SoilType\"] != 'White')]\n",
    "df.SoilType.unique()"
   ]
  },
  {
   "cell_type": "code",
   "execution_count": 10,
   "metadata": {},
   "outputs": [
    {
     "data": {
      "text/plain": [
       "{'Red Soil': 149,\n",
       " 'Sandy Loam Soil': 145,\n",
       " 'Black Soil': 107,\n",
       " 'Sandy Soil': 71,\n",
       " 'Loam Soil': 17}"
      ]
     },
     "execution_count": 10,
     "metadata": {},
     "output_type": "execute_result"
    }
   ],
   "source": [
    "soilCount = dict(df['SoilType'].value_counts())\n",
    "soilCount"
   ]
  },
  {
   "cell_type": "code",
   "execution_count": 11,
   "metadata": {},
   "outputs": [
    {
     "data": {
      "text/plain": [
       "<BarContainer object of 5 artists>"
      ]
     },
     "execution_count": 11,
     "metadata": {},
     "output_type": "execute_result"
    },
    {
     "data": {
      "image/png": "[encoded data removed]",
      "text/plain": [
       "<Figure size 720x432 with 1 Axes>"
      ]
     },
     "metadata": {
      "needs_background": "light"
     },
     "output_type": "display_data"
    }
   ],
   "source": [
    "soilType = soilCount.keys()\n",
    "soilCounts = soilCount.values()\n",
    "plt.bar(soilType, soilCounts)"
   ]
  },
  {
   "cell_type": "code",
   "execution_count": 12,
   "metadata": {},
   "outputs": [],
   "source": [
    "# Analysis of Crops grown "
   ]
  },
  {
   "cell_type": "code",
   "execution_count": 13,
   "metadata": {},
   "outputs": [
    {
     "data": {
      "text/plain": [
       "array(['Blackgram', 'Sandy', 'Paddy', 'Sesumum', 'Sesamum', 'Maize',\n",
       "       'Black Gram', 'Mango', 'Eucaliptus', 'Cashewnut', 'Ragi',\n",
       "       'Mango(Intercrop Ragi,)', 'Cashew Nut', 'Mango(Intercrop Ragi)',\n",
       "       'Mango(Inter Crop Ragi)', 'Red Gram',\n",
       "       'Mango (Inter Crop Red Gram And Ragi)', 'Oil Palm', 'Mesta',\n",
       "       'Cashewnut, Mango (Intercrop Maize And Seasamum)', 'Paady',\n",
       "       'Chilli', 'Sugarcane', 'Banana', 'Coconut', 'Ground Nut', ' Maize',\n",
       "       'Coconut (Intercop Maize)', 'Cashew Raina', 'Mc', 'Cotton'],\n",
       "      dtype=object)"
      ]
     },
     "execution_count": 13,
     "metadata": {},
     "output_type": "execute_result"
    }
   ],
   "source": [
    "df.Crop.unique()"
   ]
  },
  {
   "cell_type": "code",
   "execution_count": 14,
   "metadata": {},
   "outputs": [
    {
     "data": {
      "text/plain": [
       "Paddy                                              176\n",
       "Maize                                              172\n",
       "Sesamum                                             43\n",
       "Coconut                                             26\n",
       "Blackgram                                           13\n",
       "Cashew Nut                                           8\n",
       "Banana                                               7\n",
       "Mango                                                6\n",
       "Cashewnut                                            6\n",
       "Ragi                                                 4\n",
       "Paady                                                3\n",
       "Mesta                                                3\n",
       "Oil Palm                                             2\n",
       "Ground Nut                                           2\n",
       "Mango(Inter Crop Ragi)                               2\n",
       "Sesumum                                              1\n",
       "Cashewnut, Mango (Intercrop Maize And Seasamum)      1\n",
       "Red Gram                                             1\n",
       "Mango (Inter Crop Red Gram And Ragi)                 1\n",
       "Mango(Intercrop Ragi)                                1\n",
       "Cashew Raina                                         1\n",
       "Mango(Intercrop Ragi,)                               1\n",
       "Black Gram                                           1\n",
       "Eucaliptus                                           1\n",
       "Coconut (Intercop Maize)                             1\n",
       "Cotton                                               1\n",
       "Sandy                                                1\n",
       " Maize                                               1\n",
       "Sugarcane                                            1\n",
       "Mc                                                   1\n",
       "Chilli                                               1\n",
       "Name: Crop, dtype: int64"
      ]
     },
     "execution_count": 14,
     "metadata": {},
     "output_type": "execute_result"
    }
   ],
   "source": [
    "df['Crop'].value_counts()"
   ]
  },
  {
   "cell_type": "code",
   "execution_count": 15,
   "metadata": {},
   "outputs": [
    {
     "name": "stdout",
     "output_type": "stream",
     "text": [
      "Paddy        179\n",
      "Maize        173\n",
      "Sesamum       44\n",
      "Coconut       27\n",
      "CashewNut     15\n",
      "BlackGram     14\n",
      "Mango         12\n",
      "Name: Crop, dtype: int64\n"
     ]
    },
    {
     "data": {
      "text/plain": [
       "<BarContainer object of 7 artists>"
      ]
     },
     "execution_count": 15,
     "metadata": {},
     "output_type": "execute_result"
    },
    {
     "data": {
      "image/png": "[encoded data removed]",
      "text/plain": [
       "<Figure size 720x432 with 1 Axes>"
      ]
     },
     "metadata": {
      "needs_background": "light"
     },
     "output_type": "display_data"
    }
   ],
   "source": [
    "df['Crop'] = df['Crop'].replace(['Blackgram', 'Black Gram'], 'BlackGram')\n",
    "df['Crop'] = df['Crop'].replace('Paady', 'Paddy')\n",
    "df['Crop'] = df['Crop'].replace('Sesumum', 'Sesamum')\n",
    "df['Crop'] = df['Crop'].replace(' Maize', 'Maize')\n",
    "df['Crop'] = df['Crop'].replace(['Mango(Intercrop Ragi)', 'Mango(Intercrop Ragi,)', 'Mango(Inter Crop Ragi)', 'Mango (Inter Crop Red Gram And Ragi)', 'Cashewnut, Mango (Intercrop Maize And Seasamum)'], 'Mango')\n",
    "df['Crop'] = df['Crop'].replace(['Cashewnut', 'Cashew Nut', 'Cashew Raina'], 'CashewNut')\n",
    "df['Crop'] = df['Crop'].replace('Coconut (Intercop Maize)', 'Coconut')\n",
    "df = df[(df['Crop'] != 'Sandy') & (df['Crop'] != 'Eucaliptus') & (df['Crop'] != 'Mc') & (df['Crop'] != 'Mesta') & (df['Crop'] != 'Chilli') & (df['Crop'] != 'Red Gram') & (df['Crop'] != 'Oil Palm') & (df['Crop'] != 'Ragi') & (df['Crop'] != 'Sugarcane') & (df['Crop'] != 'Cotton') & (df['Crop'] != 'Ground Nut')]\n",
    "df = df[df['Crop'] != 'Banana']\n",
    "\n",
    "print(df['Crop'].value_counts())\n",
    "cropCount = dict(df['Crop'].value_counts())\n",
    "cropType = cropCount.keys()\n",
    "cropCounts = cropCount.values()\n",
    "plt.bar(cropType, cropCounts)"
   ]
  },
  {
   "cell_type": "code",
   "execution_count": 16,
   "metadata": {},
   "outputs": [],
   "source": [
    "# Getting rid of features that have a high correlation among one another"
   ]
  },
  {
   "cell_type": "code",
   "execution_count": 17,
   "metadata": {},
   "outputs": [
    {
     "data": {
      "text/html": [
       "<div>\n",
       "<style scoped>\n",
       "    .dataframe tbody tr th:only-of-type {\n",
       "        vertical-align: middle;\n",
       "    }\n",
       "\n",
       "    .dataframe tbody tr th {\n",
       "        vertical-align: top;\n",
       "    }\n",
       "\n",
       "    .dataframe thead th {\n",
       "        text-align: right;\n",
       "    }\n",
       "</style>\n",
       "<table border=\"1\" class=\"dataframe\">\n",
       "  <thead>\n",
       "    <tr style=\"text-align: right;\">\n",
       "      <th></th>\n",
       "      <th>pH</th>\n",
       "      <th>EC</th>\n",
       "      <th>OC</th>\n",
       "      <th>P</th>\n",
       "      <th>K</th>\n",
       "      <th>Ca</th>\n",
       "      <th>Mg</th>\n",
       "      <th>S</th>\n",
       "      <th>Zn</th>\n",
       "      <th>B</th>\n",
       "      <th>Fe</th>\n",
       "      <th>Cu</th>\n",
       "      <th>Mn</th>\n",
       "      <th>NDVI</th>\n",
       "    </tr>\n",
       "  </thead>\n",
       "  <tbody>\n",
       "    <tr>\n",
       "      <th>pH</th>\n",
       "      <td>1.000000</td>\n",
       "      <td>0.281542</td>\n",
       "      <td>0.035015</td>\n",
       "      <td>0.398014</td>\n",
       "      <td>0.317697</td>\n",
       "      <td>0.545172</td>\n",
       "      <td>0.674187</td>\n",
       "      <td>0.252758</td>\n",
       "      <td>0.186213</td>\n",
       "      <td>0.669005</td>\n",
       "      <td>-0.669751</td>\n",
       "      <td>-0.246604</td>\n",
       "      <td>-0.343555</td>\n",
       "      <td>-0.419495</td>\n",
       "    </tr>\n",
       "    <tr>\n",
       "      <th>EC</th>\n",
       "      <td>0.281542</td>\n",
       "      <td>1.000000</td>\n",
       "      <td>0.235520</td>\n",
       "      <td>0.346411</td>\n",
       "      <td>0.304910</td>\n",
       "      <td>0.243800</td>\n",
       "      <td>0.491103</td>\n",
       "      <td>0.846380</td>\n",
       "      <td>0.314124</td>\n",
       "      <td>0.349722</td>\n",
       "      <td>-0.146395</td>\n",
       "      <td>0.048183</td>\n",
       "      <td>-0.054909</td>\n",
       "      <td>-0.315096</td>\n",
       "    </tr>\n",
       "    <tr>\n",
       "      <th>OC</th>\n",
       "      <td>0.035015</td>\n",
       "      <td>0.235520</td>\n",
       "      <td>1.000000</td>\n",
       "      <td>0.193455</td>\n",
       "      <td>0.228135</td>\n",
       "      <td>0.422226</td>\n",
       "      <td>0.363388</td>\n",
       "      <td>0.354167</td>\n",
       "      <td>0.273680</td>\n",
       "      <td>0.292924</td>\n",
       "      <td>0.337670</td>\n",
       "      <td>0.696471</td>\n",
       "      <td>0.062055</td>\n",
       "      <td>0.075545</td>\n",
       "    </tr>\n",
       "    <tr>\n",
       "      <th>P</th>\n",
       "      <td>0.398014</td>\n",
       "      <td>0.346411</td>\n",
       "      <td>0.193455</td>\n",
       "      <td>1.000000</td>\n",
       "      <td>0.463098</td>\n",
       "      <td>0.172051</td>\n",
       "      <td>0.389330</td>\n",
       "      <td>0.380022</td>\n",
       "      <td>0.612654</td>\n",
       "      <td>0.477513</td>\n",
       "      <td>-0.123186</td>\n",
       "      <td>-0.011556</td>\n",
       "      <td>-0.109731</td>\n",
       "      <td>-0.289995</td>\n",
       "    </tr>\n",
       "    <tr>\n",
       "      <th>K</th>\n",
       "      <td>0.317697</td>\n",
       "      <td>0.304910</td>\n",
       "      <td>0.228135</td>\n",
       "      <td>0.463098</td>\n",
       "      <td>1.000000</td>\n",
       "      <td>0.266066</td>\n",
       "      <td>0.345684</td>\n",
       "      <td>0.280814</td>\n",
       "      <td>0.352003</td>\n",
       "      <td>0.335616</td>\n",
       "      <td>-0.248655</td>\n",
       "      <td>-0.081370</td>\n",
       "      <td>0.065889</td>\n",
       "      <td>-0.256663</td>\n",
       "    </tr>\n",
       "    <tr>\n",
       "      <th>Ca</th>\n",
       "      <td>0.545172</td>\n",
       "      <td>0.243800</td>\n",
       "      <td>0.422226</td>\n",
       "      <td>0.172051</td>\n",
       "      <td>0.266066</td>\n",
       "      <td>1.000000</td>\n",
       "      <td>0.779671</td>\n",
       "      <td>0.307892</td>\n",
       "      <td>0.024606</td>\n",
       "      <td>0.458529</td>\n",
       "      <td>-0.174735</td>\n",
       "      <td>0.284958</td>\n",
       "      <td>-0.212633</td>\n",
       "      <td>-0.091174</td>\n",
       "    </tr>\n",
       "    <tr>\n",
       "      <th>Mg</th>\n",
       "      <td>0.674187</td>\n",
       "      <td>0.491103</td>\n",
       "      <td>0.363388</td>\n",
       "      <td>0.389330</td>\n",
       "      <td>0.345684</td>\n",
       "      <td>0.779671</td>\n",
       "      <td>1.000000</td>\n",
       "      <td>0.478890</td>\n",
       "      <td>0.139498</td>\n",
       "      <td>0.739764</td>\n",
       "      <td>-0.319765</td>\n",
       "      <td>0.154586</td>\n",
       "      <td>-0.228722</td>\n",
       "      <td>-0.352615</td>\n",
       "    </tr>\n",
       "    <tr>\n",
       "      <th>S</th>\n",
       "      <td>0.252758</td>\n",
       "      <td>0.846380</td>\n",
       "      <td>0.354167</td>\n",
       "      <td>0.380022</td>\n",
       "      <td>0.280814</td>\n",
       "      <td>0.307892</td>\n",
       "      <td>0.478890</td>\n",
       "      <td>1.000000</td>\n",
       "      <td>0.301916</td>\n",
       "      <td>0.400227</td>\n",
       "      <td>-0.029385</td>\n",
       "      <td>0.196379</td>\n",
       "      <td>-0.060452</td>\n",
       "      <td>-0.226769</td>\n",
       "    </tr>\n",
       "    <tr>\n",
       "      <th>Zn</th>\n",
       "      <td>0.186213</td>\n",
       "      <td>0.314124</td>\n",
       "      <td>0.273680</td>\n",
       "      <td>0.612654</td>\n",
       "      <td>0.352003</td>\n",
       "      <td>0.024606</td>\n",
       "      <td>0.139498</td>\n",
       "      <td>0.301916</td>\n",
       "      <td>1.000000</td>\n",
       "      <td>0.173359</td>\n",
       "      <td>-0.006438</td>\n",
       "      <td>0.089369</td>\n",
       "      <td>0.105286</td>\n",
       "      <td>-0.167679</td>\n",
       "    </tr>\n",
       "    <tr>\n",
       "      <th>B</th>\n",
       "      <td>0.669005</td>\n",
       "      <td>0.349722</td>\n",
       "      <td>0.292924</td>\n",
       "      <td>0.477513</td>\n",
       "      <td>0.335616</td>\n",
       "      <td>0.458529</td>\n",
       "      <td>0.739764</td>\n",
       "      <td>0.400227</td>\n",
       "      <td>0.173359</td>\n",
       "      <td>1.000000</td>\n",
       "      <td>-0.330251</td>\n",
       "      <td>0.070365</td>\n",
       "      <td>-0.320651</td>\n",
       "      <td>-0.378426</td>\n",
       "    </tr>\n",
       "    <tr>\n",
       "      <th>Fe</th>\n",
       "      <td>-0.669751</td>\n",
       "      <td>-0.146395</td>\n",
       "      <td>0.337670</td>\n",
       "      <td>-0.123186</td>\n",
       "      <td>-0.248655</td>\n",
       "      <td>-0.174735</td>\n",
       "      <td>-0.319765</td>\n",
       "      <td>-0.029385</td>\n",
       "      <td>-0.006438</td>\n",
       "      <td>-0.330251</td>\n",
       "      <td>1.000000</td>\n",
       "      <td>0.676611</td>\n",
       "      <td>0.185517</td>\n",
       "      <td>0.319343</td>\n",
       "    </tr>\n",
       "    <tr>\n",
       "      <th>Cu</th>\n",
       "      <td>-0.246604</td>\n",
       "      <td>0.048183</td>\n",
       "      <td>0.696471</td>\n",
       "      <td>-0.011556</td>\n",
       "      <td>-0.081370</td>\n",
       "      <td>0.284958</td>\n",
       "      <td>0.154586</td>\n",
       "      <td>0.196379</td>\n",
       "      <td>0.089369</td>\n",
       "      <td>0.070365</td>\n",
       "      <td>0.676611</td>\n",
       "      <td>1.000000</td>\n",
       "      <td>0.147176</td>\n",
       "      <td>0.189395</td>\n",
       "    </tr>\n",
       "    <tr>\n",
       "      <th>Mn</th>\n",
       "      <td>-0.343555</td>\n",
       "      <td>-0.054909</td>\n",
       "      <td>0.062055</td>\n",
       "      <td>-0.109731</td>\n",
       "      <td>0.065889</td>\n",
       "      <td>-0.212633</td>\n",
       "      <td>-0.228722</td>\n",
       "      <td>-0.060452</td>\n",
       "      <td>0.105286</td>\n",
       "      <td>-0.320651</td>\n",
       "      <td>0.185517</td>\n",
       "      <td>0.147176</td>\n",
       "      <td>1.000000</td>\n",
       "      <td>-0.024854</td>\n",
       "    </tr>\n",
       "    <tr>\n",
       "      <th>NDVI</th>\n",
       "      <td>-0.419495</td>\n",
       "      <td>-0.315096</td>\n",
       "      <td>0.075545</td>\n",
       "      <td>-0.289995</td>\n",
       "      <td>-0.256663</td>\n",
       "      <td>-0.091174</td>\n",
       "      <td>-0.352615</td>\n",
       "      <td>-0.226769</td>\n",
       "      <td>-0.167679</td>\n",
       "      <td>-0.378426</td>\n",
       "      <td>0.319343</td>\n",
       "      <td>0.189395</td>\n",
       "      <td>-0.024854</td>\n",
       "      <td>1.000000</td>\n",
       "    </tr>\n",
       "  </tbody>\n",
       "</table>\n",
       "</div>"
      ],
      "text/plain": [
       "            pH        EC        OC         P         K        Ca        Mg  \\\n",
       "pH    1.000000  0.281542  0.035015  0.398014  0.317697  0.545172  0.674187   \n",
       "EC    0.281542  1.000000  0.235520  0.346411  0.304910  0.243800  0.491103   \n",
       "OC    0.035015  0.235520  1.000000  0.193455  0.228135  0.422226  0.363388   \n",
       "P     0.398014  0.346411  0.193455  1.000000  0.463098  0.172051  0.389330   \n",
       "K     0.317697  0.304910  0.228135  0.463098  1.000000  0.266066  0.345684   \n",
       "Ca    0.545172  0.243800  0.422226  0.172051  0.266066  1.000000  0.779671   \n",
       "Mg    0.674187  0.491103  0.363388  0.389330  0.345684  0.779671  1.000000   \n",
       "S     0.252758  0.846380  0.354167  0.380022  0.280814  0.307892  0.478890   \n",
       "Zn    0.186213  0.314124  0.273680  0.612654  0.352003  0.024606  0.139498   \n",
       "B     0.669005  0.349722  0.292924  0.477513  0.335616  0.458529  0.739764   \n",
       "Fe   -0.669751 -0.146395  0.337670 -0.123186 -0.248655 -0.174735 -0.319765   \n",
       "Cu   -0.246604  0.048183  0.696471 -0.011556 -0.081370  0.284958  0.154586   \n",
       "Mn   -0.343555 -0.054909  0.062055 -0.109731  0.065889 -0.212633 -0.228722   \n",
       "NDVI -0.419495 -0.315096  0.075545 -0.289995 -0.256663 -0.091174 -0.352615   \n",
       "\n",
       "             S        Zn         B        Fe        Cu        Mn      NDVI  \n",
       "pH    0.252758  0.186213  0.669005 -0.669751 -0.246604 -0.343555 -0.419495  \n",
       "EC    0.846380  0.314124  0.349722 -0.146395  0.048183 -0.054909 -0.315096  \n",
       "OC    0.354167  0.273680  0.292924  0.337670  0.696471  0.062055  0.075545  \n",
       "P     0.380022  0.612654  0.477513 -0.123186 -0.011556 -0.109731 -0.289995  \n",
       "K     0.280814  0.352003  0.335616 -0.248655 -0.081370  0.065889 -0.256663  \n",
       "Ca    0.307892  0.024606  0.458529 -0.174735  0.284958 -0.212633 -0.091174  \n",
       "Mg    0.478890  0.139498  0.739764 -0.319765  0.154586 -0.228722 -0.352615  \n",
       "S     1.000000  0.301916  0.400227 -0.029385  0.196379 -0.060452 -0.226769  \n",
       "Zn    0.301916  1.000000  0.173359 -0.006438  0.089369  0.105286 -0.167679  \n",
       "B     0.400227  0.173359  1.000000 -0.330251  0.070365 -0.320651 -0.378426  \n",
       "Fe   -0.029385 -0.006438 -0.330251  1.000000  0.676611  0.185517  0.319343  \n",
       "Cu    0.196379  0.089369  0.070365  0.676611  1.000000  0.147176  0.189395  \n",
       "Mn   -0.060452  0.105286 -0.320651  0.185517  0.147176  1.000000 -0.024854  \n",
       "NDVI -0.226769 -0.167679 -0.378426  0.319343  0.189395 -0.024854  1.000000  "
      ]
     },
     "execution_count": 17,
     "metadata": {},
     "output_type": "execute_result"
    }
   ],
   "source": [
    "cor_matrix = df.corr()\n",
    "cor_matrix"
   ]
  },
  {
   "cell_type": "code",
   "execution_count": 18,
   "metadata": {},
   "outputs": [
    {
     "name": "stdout",
     "output_type": "stream",
     "text": [
      "Columns to be dropped :  ['Ca', 'Mg', 'S', 'Zn', 'B', 'Cu']\n"
     ]
    }
   ],
   "source": [
    "upper_tri = cor_matrix.where(np.triu(np.ones(cor_matrix.shape),k=1).astype(np.bool))\n",
    "to_drop = [column for column in upper_tri.columns if any(upper_tri[column] > 0.5)]\n",
    "print('Columns to be dropped : ', to_drop)"
   ]
  },
  {
   "cell_type": "code",
   "execution_count": 19,
   "metadata": {},
   "outputs": [
    {
     "name": "stdout",
     "output_type": "stream",
     "text": [
      "Columns taken into consideration :  ['SoilType', 'pH', 'EC', 'OC', 'P', 'K', 'Fe', 'Mn', 'NDVI', 'Crop']\n"
     ]
    }
   ],
   "source": [
    "df = df.drop(to_drop, axis = 1)\n",
    "print('Columns taken into consideration : ', list(df.columns))"
   ]
  },
  {
   "cell_type": "code",
   "execution_count": 20,
   "metadata": {},
   "outputs": [],
   "source": [
    "# Separating the dependent and independent variables\n",
    "X = df.iloc[:, :-1]\n",
    "y = df.iloc[:, -1]"
   ]
  },
  {
   "cell_type": "code",
   "execution_count": 21,
   "metadata": {},
   "outputs": [
    {
     "name": "stdout",
     "output_type": "stream",
     "text": [
      "        pH    EC    OC     P      K     Fe    Mn      NDVI  Black Soil  \\\n",
      "3744  8.46  0.24  0.19  2.41  134.0  13.79  6.48  0.604339           1   \n",
      "\n",
      "      Loam Soil  Red Soil  Sandy Loam Soil  Sandy Soil  \n",
      "3744          0         0                0           0  \n",
      "3744    BlackGram\n",
      "Name: Crop, dtype: object\n"
     ]
    }
   ],
   "source": [
    "# Encoding SoilType as it is a categorical variable\n",
    "X = pd.get_dummies(X, prefix='', prefix_sep='')\n",
    "print(X.head(1))\n",
    "print(y.head(1))\n",
    "X = X.values\n",
    "y = y.values"
   ]
  },
  {
   "cell_type": "code",
   "execution_count": 22,
   "metadata": {},
   "outputs": [],
   "source": [
    "# Standardizing the independent variables using Feature Scaling\n",
    "sc1 = StandardScaler()\n",
    "X[:, 0:8] = sc1.fit_transform(X[:, 0:8])"
   ]
  },
  {
   "cell_type": "code",
   "execution_count": 23,
   "metadata": {},
   "outputs": [],
   "source": [
    "# Splitting the dataset into training set and test set\n",
    "X_train, X_test, y_train, y_test = train_test_split(X, y, test_size = 0.25, random_state = 0, stratify=y)"
   ]
  },
  {
   "cell_type": "markdown",
   "metadata": {},
   "source": [
    "# SMOTE: Synthetic Minority Over-sampling Technique"
   ]
  },
  {
   "cell_type": "code",
   "execution_count": 24,
   "metadata": {},
   "outputs": [],
   "source": [
    "# Separating the dependent and independent variables\n",
    "df = df.drop(['SoilType'], axis=1)\n",
    "X = df.iloc[:, :-1].values\n",
    "y = df.iloc[:, -1].values\n",
    "smote = SMOTE()\n",
    "X, y = smote.fit_resample(X, y)"
   ]
  },
  {
   "cell_type": "code",
   "execution_count": 25,
   "metadata": {},
   "outputs": [],
   "source": [
    "# Standardizing the independent variables using Feature Scaling\n",
    "sc2 = StandardScaler()\n",
    "X[:, :] = sc2.fit_transform(X[:, :])"
   ]
  },
  {
   "cell_type": "code",
   "execution_count": 26,
   "metadata": {},
   "outputs": [],
   "source": [
    "# Splitting the dataset into training set and test set\n",
    "X_train, X_test, y_train, y_test = train_test_split(X, y, test_size = 0.25, random_state = 0, stratify=y)"
   ]
  },
  {
   "cell_type": "markdown",
   "metadata": {},
   "source": [
    "# K-Nearest Neighbors Classifier"
   ]
  },
  {
   "cell_type": "code",
   "execution_count": 27,
   "metadata": {},
   "outputs": [
    {
     "data": {
      "text/plain": [
       "KNeighborsClassifier(weights='distance')"
      ]
     },
     "execution_count": 27,
     "metadata": {},
     "output_type": "execute_result"
    }
   ],
   "source": [
    "clf1 = KNeighborsClassifier(weights='distance')\n",
    "clf1.fit(X_train, y_train)"
   ]
  },
  {
   "cell_type": "code",
   "execution_count": 28,
   "metadata": {},
   "outputs": [],
   "source": [
    "y_test_pred = clf1.predict(X_test)\n",
    "y_train_pred = clf1.predict(X_train)\n",
    "AC1_train = accuracy_score(y_train, y_train_pred)\n",
    "AC1_test = accuracy_score(y_test, y_test_pred)"
   ]
  },
  {
   "cell_type": "code",
   "execution_count": 29,
   "metadata": {},
   "outputs": [
    {
     "name": "stdout",
     "output_type": "stream",
     "text": [
      "Training Accuracy:  1.0\n",
      "Testing Accuracy:  0.7611464968152867\n"
     ]
    }
   ],
   "source": [
    "print('Training Accuracy: ', AC1_train)\n",
    "print('Testing Accuracy: ', AC1_test)"
   ]
  },
  {
   "cell_type": "code",
   "execution_count": 30,
   "metadata": {},
   "outputs": [
    {
     "name": "stdout",
     "output_type": "stream",
     "text": [
      "Accuracy: 81.15 %\n",
      "Standard Deviation: 2.66 %\n"
     ]
    }
   ],
   "source": [
    "# k-Fold Cross Validation\n",
    "accuracyList = cross_val_score(estimator = clf1, X = X_train, y = y_train, cv = 10)\n",
    "print('Accuracy: {:.2f} %'.format(accuracyList.mean() * 100))\n",
    "print('Standard Deviation: {:.2f} %'.format(accuracyList.std() * 100))"
   ]
  },
  {
   "cell_type": "markdown",
   "metadata": {},
   "source": [
    "# Decision Tree Classifier"
   ]
  },
  {
   "cell_type": "code",
   "execution_count": 31,
   "metadata": {},
   "outputs": [
    {
     "data": {
      "text/plain": [
       "DecisionTreeClassifier(random_state=0)"
      ]
     },
     "execution_count": 31,
     "metadata": {},
     "output_type": "execute_result"
    }
   ],
   "source": [
    "clf2 = DecisionTreeClassifier(random_state=0)\n",
    "clf2.fit(X_train, y_train)"
   ]
  },
  {
   "cell_type": "code",
   "execution_count": 32,
   "metadata": {},
   "outputs": [],
   "source": [
    "y_test_pred = clf2.predict(X_test)\n",
    "y_train_pred = clf2.predict(X_train)\n",
    "AC2_train = accuracy_score(y_train, y_train_pred)\n",
    "AC2_test = accuracy_score(y_test, y_test_pred)"
   ]
  },
  {
   "cell_type": "code",
   "execution_count": 33,
   "metadata": {},
   "outputs": [
    {
     "name": "stdout",
     "output_type": "stream",
     "text": [
      "Training Accuracy:  1.0\n",
      "Testing Accuracy:  0.7707006369426752\n"
     ]
    }
   ],
   "source": [
    "print('Training Accuracy: ', AC2_train)\n",
    "print('Testing Accuracy: ', AC2_test)"
   ]
  },
  {
   "cell_type": "code",
   "execution_count": 34,
   "metadata": {},
   "outputs": [
    {
     "name": "stdout",
     "output_type": "stream",
     "text": [
      "Accuracy: 79.02 %\n",
      "Standard Deviation: 3.67 %\n"
     ]
    }
   ],
   "source": [
    "# k-Fold Cross Validation\n",
    "accuracyList = cross_val_score(estimator = clf2, X = X_train, y = y_train, cv = 10)\n",
    "print('Accuracy: {:.2f} %'.format(accuracyList.mean() * 100))\n",
    "print('Standard Deviation: {:.2f} %'.format(accuracyList.std() * 100))"
   ]
  },
  {
   "cell_type": "markdown",
   "metadata": {},
   "source": [
    "# Random Forest Classifier"
   ]
  },
  {
   "cell_type": "code",
   "execution_count": 35,
   "metadata": {},
   "outputs": [
    {
     "data": {
      "text/plain": [
       "RandomForestClassifier(random_state=0)"
      ]
     },
     "execution_count": 35,
     "metadata": {},
     "output_type": "execute_result"
    }
   ],
   "source": [
    "clf3_3 = RandomForestClassifier(random_state=0)\n",
    "clf3_3.fit(X_train, y_train)"
   ]
  },
  {
   "cell_type": "code",
   "execution_count": 36,
   "metadata": {},
   "outputs": [],
   "source": [
    "y_test_pred = clf3_3.predict(X_test)\n",
    "y_train_pred = clf3_3.predict(X_train)\n",
    "AC3_train = accuracy_score(y_train, y_train_pred)\n",
    "AC3_test = accuracy_score(y_test, y_test_pred)"
   ]
  },
  {
   "cell_type": "code",
   "execution_count": 37,
   "metadata": {},
   "outputs": [
    {
     "name": "stdout",
     "output_type": "stream",
     "text": [
      "Training Accuracy:  1.0\n",
      "Testing Accuracy:  0.8471337579617835\n"
     ]
    }
   ],
   "source": [
    "print('Training Accuracy: ', AC3_train)\n",
    "print('Testing Accuracy: ', AC3_test)"
   ]
  },
  {
   "cell_type": "code",
   "execution_count": 38,
   "metadata": {},
   "outputs": [
    {
     "name": "stdout",
     "output_type": "stream",
     "text": [
      "Accuracy: 87.33 %\n",
      "Standard Deviation: 2.75 %\n"
     ]
    }
   ],
   "source": [
    "# k-Fold Cross Validation\n",
    "accuracyList = cross_val_score(estimator = clf3_3, X = X_train, y = y_train, cv = 10)\n",
    "print('Accuracy: {:.2f} %'.format(accuracyList.mean() * 100))\n",
    "print('Standard Deviation: {:.2f} %'.format(accuracyList.std() * 100))"
   ]
  },
  {
   "cell_type": "code",
   "execution_count": 39,
   "metadata": {},
   "outputs": [],
   "source": [
    "pickle.dump(clf3_3, open('Vizianagaram_model.pkl', 'wb'))\n",
    "pickle.dump(sc2, open('Vizianagaram_scaler.pkl', 'wb'))"
   ]
  },
  {
   "cell_type": "markdown",
   "metadata": {},
   "source": [
    "# XGBoost"
   ]
  },
  {
   "cell_type": "code",
   "execution_count": 40,
   "metadata": {},
   "outputs": [
    {
     "data": {
      "text/plain": [
       "HistGradientBoostingClassifier(random_state=0)"
      ]
     },
     "execution_count": 40,
     "metadata": {},
     "output_type": "execute_result"
    }
   ],
   "source": [
    "clf4 = HistGradientBoostingClassifier(random_state=0)\n",
    "clf4.fit(X_train, y_train)"
   ]
  },
  {
   "cell_type": "code",
   "execution_count": 41,
   "metadata": {},
   "outputs": [],
   "source": [
    "y_test_pred = clf4.predict(X_test)\n",
    "y_train_pred = clf4.predict(X_train)\n",
    "AC4_train = accuracy_score(y_train, y_train_pred)\n",
    "AC4_test = accuracy_score(y_test, y_test_pred)"
   ]
  },
  {
   "cell_type": "code",
   "execution_count": 42,
   "metadata": {},
   "outputs": [
    {
     "name": "stdout",
     "output_type": "stream",
     "text": [
      "Training Accuracy:  1.0\n",
      "Testing Accuracy:  0.8503184713375797\n"
     ]
    }
   ],
   "source": [
    "print('Training Accuracy: ', AC4_train)\n",
    "print('Testing Accuracy: ', AC4_test)"
   ]
  },
  {
   "cell_type": "code",
   "execution_count": 43,
   "metadata": {},
   "outputs": [],
   "source": [
    "# k-Fold Cross Validation\n",
    "accuracyList = cross_val_score(estimator = clf4, X = X_train, y = y_train, cv = 10)"
   ]
  },
  {
   "cell_type": "code",
   "execution_count": 44,
   "metadata": {},
   "outputs": [
    {
     "name": "stdout",
     "output_type": "stream",
     "text": [
      "Accuracy: 87.64 %\n",
      "Standard Deviation: 3.13 %\n"
     ]
    }
   ],
   "source": [
    "print('Accuracy: {:.2f} %'.format(accuracyList.mean() * 100))\n",
    "print('Standard Deviation: {:.2f} %'.format(accuracyList.std() * 100))"
   ]
  },
  {
   "cell_type": "markdown",
   "metadata": {},
   "source": [
    "# Multi-layer Perceptron Classifier"
   ]
  },
  {
   "cell_type": "code",
   "execution_count": 45,
   "metadata": {},
   "outputs": [
    {
     "data": {
      "text/plain": [
       "MLPClassifier(learning_rate='adaptive', random_state=0)"
      ]
     },
     "execution_count": 45,
     "metadata": {},
     "output_type": "execute_result"
    }
   ],
   "source": [
    "clf5 = MLPClassifier(random_state=0, learning_rate= 'adaptive')\n",
    "clf5.fit(X_train, y_train)"
   ]
  },
  {
   "cell_type": "code",
   "execution_count": 46,
   "metadata": {},
   "outputs": [],
   "source": [
    "y_test_pred = clf5.predict(X_test)\n",
    "y_train_pred = clf5.predict(X_train)\n",
    "AC5_train = accuracy_score(y_train, y_train_pred)\n",
    "AC5_test = accuracy_score(y_test, y_test_pred)"
   ]
  },
  {
   "cell_type": "code",
   "execution_count": 47,
   "metadata": {},
   "outputs": [
    {
     "name": "stdout",
     "output_type": "stream",
     "text": [
      "Training Accuracy:  0.858359957401491\n",
      "Testing Accuracy:  0.7738853503184714\n"
     ]
    }
   ],
   "source": [
    "print('Training Accuracy: ', AC5_train)\n",
    "print('Testing Accuracy: ', AC5_test)"
   ]
  },
  {
   "cell_type": "code",
   "execution_count": 48,
   "metadata": {
    "scrolled": true
   },
   "outputs": [
    {
     "name": "stdout",
     "output_type": "stream",
     "text": [
      "Accuracy: 79.24 %\n",
      "Standard Deviation: 3.88 %\n"
     ]
    }
   ],
   "source": [
    "# k-Fold Cross Validation\n",
    "accuracyList = cross_val_score(estimator = clf5, X = X_train, y = y_train, cv = 10)\n",
    "print('Accuracy: {:.2f} %'.format(accuracyList.mean() * 100))\n",
    "print('Standard Deviation: {:.2f} %'.format(accuracyList.std() * 100))"
   ]
  },
  {
   "cell_type": "markdown",
   "metadata": {},
   "source": [
    "# Catboost"
   ]
  },
  {
   "cell_type": "code",
   "execution_count": null,
   "metadata": {},
   "outputs": [],
   "source": [
    "from catboost import CatBoostClassifier, Pool, cv\n",
    "\n",
    "model = CatBoostClassifier(iterations=100, depth=2, learning_rate=1, loss_function='MultiClass', verbose=True)\n",
    "model.fit(X_train, y_train)\n",
    "\n",
    "model.calc_feature_statistics(X_train, y_train, feature=1, plot=True)\n",
    "\n",
    "train_data = Pool(data=X_train, label=y_train)\n",
    "model.get_feature_importance(train_data)\n",
    "\n",
    "#Cross-Validation\n",
    "cv_dataset = Pool(data=X_train, label=y_train)\n",
    "params = {\"iterations\": 100, \"depth\": 2, \"loss_function\": \"MultiClass\", \"verbose\": False}\n",
    "scores = cv(cv_dataset, params, fold_count=5, plot=\"True\")\n",
    "\n",
    "model = CatBoostClassifier(loss_function='MultiClass')\n",
    "grid = {'learning_rate': [0.03, 0.1], 'depth': [4, 6, 10]}\n",
    "grid_search_result = model.grid_search(grid, X=X_train, y=y_train, cv=3, plot=True)\n",
    "\n",
    "model.score(X_test, y_test)\n",
    "\n",
    "# k-Fold Cross Validation\n",
    "accuracyList = cross_val_score(estimator = model, X = X_train, y = y_train, cv = 10)\n",
    "print('Accuracy: {:.2f} %'.format(accuracyList.mean() * 100))\n",
    "print('Standard Deviation: {:.2f} %'.format(accuracyList.std() * 100))"
   ]
  }
 ],
 "metadata": {
  "kernelspec": {
   "display_name": "Python 3",
   "language": "python",
   "name": "python3"
  },
  "language_info": {
   "codemirror_mode": {
    "name": "ipython",
    "version": 3
   },
   "file_extension": ".py",
   "mimetype": "text/x-python",
   "name": "python",
   "nbconvert_exporter": "python",
   "pygments_lexer": "ipython3",
   "version": "3.8.8"
  }
 },
 "nbformat": 4,
 "nbformat_minor": 4
}
