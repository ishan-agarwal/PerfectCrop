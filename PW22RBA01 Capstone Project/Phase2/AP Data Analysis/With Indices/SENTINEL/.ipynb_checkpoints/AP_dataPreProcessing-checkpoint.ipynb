{
 "cells": [
  {
   "cell_type": "code",
   "execution_count": 1,
   "metadata": {},
   "outputs": [],
   "source": [
    "# Importing the required modules"
   ]
  },
  {
   "cell_type": "code",
   "execution_count": 2,
   "metadata": {},
   "outputs": [],
   "source": [
    "import numpy as np\n",
    "import matplotlib.pyplot as plt\n",
    "import pandas as pd\n",
    "import seaborn as sns"
   ]
  },
  {
   "cell_type": "code",
   "execution_count": 3,
   "metadata": {},
   "outputs": [],
   "source": [
    "# Importing the dataset as a dataframe"
   ]
  },
  {
   "cell_type": "code",
   "execution_count": 4,
   "metadata": {},
   "outputs": [],
   "source": [
    "soil_df = pd.read_csv('sentinel.csv')"
   ]
  },
  {
   "cell_type": "code",
   "execution_count": 5,
   "metadata": {},
   "outputs": [
    {
     "data": {
      "text/html": [
       "<div>\n",
       "<style scoped>\n",
       "    .dataframe tbody tr th:only-of-type {\n",
       "        vertical-align: middle;\n",
       "    }\n",
       "\n",
       "    .dataframe tbody tr th {\n",
       "        vertical-align: top;\n",
       "    }\n",
       "\n",
       "    .dataframe thead th {\n",
       "        text-align: right;\n",
       "    }\n",
       "</style>\n",
       "<table border=\"1\" class=\"dataframe\">\n",
       "  <thead>\n",
       "    <tr style=\"text-align: right;\">\n",
       "      <th></th>\n",
       "      <th>Unnamed: 0</th>\n",
       "      <th>Unnamed: 0.1</th>\n",
       "      <th>District</th>\n",
       "      <th>Mandal</th>\n",
       "      <th>Village</th>\n",
       "      <th>Latitude</th>\n",
       "      <th>Longitude</th>\n",
       "      <th>SoilType</th>\n",
       "      <th>pH</th>\n",
       "      <th>EC</th>\n",
       "      <th>...</th>\n",
       "      <th>B</th>\n",
       "      <th>Fe</th>\n",
       "      <th>Cu</th>\n",
       "      <th>Mn</th>\n",
       "      <th>Crop</th>\n",
       "      <th>ndvi</th>\n",
       "      <th>arvi</th>\n",
       "      <th>evi</th>\n",
       "      <th>gci</th>\n",
       "      <th>ndwi</th>\n",
       "    </tr>\n",
       "  </thead>\n",
       "  <tbody>\n",
       "    <tr>\n",
       "      <th>0</th>\n",
       "      <td>0</td>\n",
       "      <td>0</td>\n",
       "      <td>Anantapur</td>\n",
       "      <td>Penukonda</td>\n",
       "      <td>Gonipeta</td>\n",
       "      <td>14.08</td>\n",
       "      <td>77.69</td>\n",
       "      <td>Mixed soil</td>\n",
       "      <td>6.19</td>\n",
       "      <td>0.07</td>\n",
       "      <td>...</td>\n",
       "      <td>0.17</td>\n",
       "      <td>8.89</td>\n",
       "      <td>0.51</td>\n",
       "      <td>15.24</td>\n",
       "      <td>G.Nut</td>\n",
       "      <td>0.312311</td>\n",
       "      <td>0.090286</td>\n",
       "      <td>0.535080</td>\n",
       "      <td>1.609966</td>\n",
       "      <td>-0.445978</td>\n",
       "    </tr>\n",
       "    <tr>\n",
       "      <th>1</th>\n",
       "      <td>1</td>\n",
       "      <td>1</td>\n",
       "      <td>Anantapur</td>\n",
       "      <td>Penukonda</td>\n",
       "      <td>Gonipeta</td>\n",
       "      <td>14.09</td>\n",
       "      <td>77.69</td>\n",
       "      <td>Redsoil</td>\n",
       "      <td>8.40</td>\n",
       "      <td>0.33</td>\n",
       "      <td>...</td>\n",
       "      <td>0.57</td>\n",
       "      <td>3.24</td>\n",
       "      <td>0.44</td>\n",
       "      <td>6.90</td>\n",
       "      <td>G.Nut</td>\n",
       "      <td>0.127815</td>\n",
       "      <td>-0.068606</td>\n",
       "      <td>0.187032</td>\n",
       "      <td>0.845618</td>\n",
       "      <td>-0.297165</td>\n",
       "    </tr>\n",
       "    <tr>\n",
       "      <th>2</th>\n",
       "      <td>2</td>\n",
       "      <td>2</td>\n",
       "      <td>Anantapur</td>\n",
       "      <td>Penukonda</td>\n",
       "      <td>Gonipeta</td>\n",
       "      <td>14.09</td>\n",
       "      <td>77.69</td>\n",
       "      <td>Mixed soil</td>\n",
       "      <td>7.10</td>\n",
       "      <td>0.11</td>\n",
       "      <td>...</td>\n",
       "      <td>0.19</td>\n",
       "      <td>5.54</td>\n",
       "      <td>0.42</td>\n",
       "      <td>8.34</td>\n",
       "      <td>G.Nut</td>\n",
       "      <td>0.127815</td>\n",
       "      <td>-0.068606</td>\n",
       "      <td>0.187032</td>\n",
       "      <td>0.845618</td>\n",
       "      <td>-0.297165</td>\n",
       "    </tr>\n",
       "    <tr>\n",
       "      <th>3</th>\n",
       "      <td>3</td>\n",
       "      <td>3</td>\n",
       "      <td>Anantapur</td>\n",
       "      <td>Penukonda</td>\n",
       "      <td>Gonipeta</td>\n",
       "      <td>14.10</td>\n",
       "      <td>77.70</td>\n",
       "      <td>Sandi soil</td>\n",
       "      <td>8.30</td>\n",
       "      <td>0.21</td>\n",
       "      <td>...</td>\n",
       "      <td>0.21</td>\n",
       "      <td>1.79</td>\n",
       "      <td>0.67</td>\n",
       "      <td>4.17</td>\n",
       "      <td>Horsegram</td>\n",
       "      <td>0.140598</td>\n",
       "      <td>-0.065553</td>\n",
       "      <td>0.198200</td>\n",
       "      <td>0.984709</td>\n",
       "      <td>-0.329918</td>\n",
       "    </tr>\n",
       "    <tr>\n",
       "      <th>4</th>\n",
       "      <td>4</td>\n",
       "      <td>4</td>\n",
       "      <td>Anantapur</td>\n",
       "      <td>Penukonda</td>\n",
       "      <td>Gonipeta</td>\n",
       "      <td>14.09</td>\n",
       "      <td>77.69</td>\n",
       "      <td>Mixed soil</td>\n",
       "      <td>6.40</td>\n",
       "      <td>0.06</td>\n",
       "      <td>...</td>\n",
       "      <td>0.22</td>\n",
       "      <td>22.26</td>\n",
       "      <td>0.45</td>\n",
       "      <td>9.20</td>\n",
       "      <td>Horsegram</td>\n",
       "      <td>0.127815</td>\n",
       "      <td>-0.068606</td>\n",
       "      <td>0.187032</td>\n",
       "      <td>0.845618</td>\n",
       "      <td>-0.297165</td>\n",
       "    </tr>\n",
       "  </tbody>\n",
       "</table>\n",
       "<p>5 rows × 27 columns</p>\n",
       "</div>"
      ],
      "text/plain": [
       "   Unnamed: 0  Unnamed: 0.1   District     Mandal   Village  Latitude  \\\n",
       "0           0             0  Anantapur  Penukonda  Gonipeta     14.08   \n",
       "1           1             1  Anantapur  Penukonda  Gonipeta     14.09   \n",
       "2           2             2  Anantapur  Penukonda  Gonipeta     14.09   \n",
       "3           3             3  Anantapur  Penukonda  Gonipeta     14.10   \n",
       "4           4             4  Anantapur  Penukonda  Gonipeta     14.09   \n",
       "\n",
       "   Longitude    SoilType    pH    EC  ...     B     Fe    Cu     Mn  \\\n",
       "0      77.69  Mixed soil  6.19  0.07  ...  0.17   8.89  0.51  15.24   \n",
       "1      77.69     Redsoil  8.40  0.33  ...  0.57   3.24  0.44   6.90   \n",
       "2      77.69  Mixed soil  7.10  0.11  ...  0.19   5.54  0.42   8.34   \n",
       "3      77.70  Sandi soil  8.30  0.21  ...  0.21   1.79  0.67   4.17   \n",
       "4      77.69  Mixed soil  6.40  0.06  ...  0.22  22.26  0.45   9.20   \n",
       "\n",
       "        Crop      ndvi      arvi       evi       gci      ndwi  \n",
       "0      G.Nut  0.312311  0.090286  0.535080  1.609966 -0.445978  \n",
       "1      G.Nut  0.127815 -0.068606  0.187032  0.845618 -0.297165  \n",
       "2      G.Nut  0.127815 -0.068606  0.187032  0.845618 -0.297165  \n",
       "3  Horsegram  0.140598 -0.065553  0.198200  0.984709 -0.329918  \n",
       "4  Horsegram  0.127815 -0.068606  0.187032  0.845618 -0.297165  \n",
       "\n",
       "[5 rows x 27 columns]"
      ]
     },
     "execution_count": 5,
     "metadata": {},
     "output_type": "execute_result"
    }
   ],
   "source": [
    "soil_df.head()"
   ]
  },
  {
   "cell_type": "code",
   "execution_count": 6,
   "metadata": {},
   "outputs": [],
   "source": [
    "# Datatype of each column"
   ]
  },
  {
   "cell_type": "code",
   "execution_count": 7,
   "metadata": {},
   "outputs": [
    {
     "data": {
      "text/plain": [
       "Unnamed: 0        int64\n",
       "Unnamed: 0.1      int64\n",
       "District         object\n",
       "Mandal           object\n",
       "Village          object\n",
       "Latitude        float64\n",
       "Longitude       float64\n",
       "SoilType         object\n",
       "pH              float64\n",
       "EC              float64\n",
       "OC               object\n",
       "P               float64\n",
       "K                 int64\n",
       "Ca                int64\n",
       "Mg                int64\n",
       "S                object\n",
       "Zn              float64\n",
       "B                object\n",
       "Fe              float64\n",
       "Cu              float64\n",
       "Mn              float64\n",
       "Crop             object\n",
       "ndvi            float64\n",
       "arvi            float64\n",
       "evi             float64\n",
       "gci             float64\n",
       "ndwi            float64\n",
       "dtype: object"
      ]
     },
     "execution_count": 7,
     "metadata": {},
     "output_type": "execute_result"
    }
   ],
   "source": [
    "soil_df.dtypes"
   ]
  },
  {
   "cell_type": "code",
   "execution_count": 8,
   "metadata": {},
   "outputs": [
    {
     "data": {
      "text/plain": [
       "Index(['Unnamed: 0', 'Unnamed: 0.1', 'District', 'Mandal', 'Village',\n",
       "       'Latitude', 'Longitude', 'SoilType', 'pH', 'EC', 'OC', 'P', 'K', 'Ca',\n",
       "       'Mg', 'S', 'Zn', 'B', 'Fe', 'Cu', 'Mn', 'Crop', 'ndvi', 'arvi', 'evi',\n",
       "       'gci', 'ndwi'],\n",
       "      dtype='object')"
      ]
     },
     "execution_count": 8,
     "metadata": {},
     "output_type": "execute_result"
    }
   ],
   "source": [
    "soil_df.columns"
   ]
  },
  {
   "cell_type": "code",
   "execution_count": 9,
   "metadata": {},
   "outputs": [],
   "source": [
    "# Dropping the unimportant features"
   ]
  },
  {
   "cell_type": "code",
   "execution_count": 11,
   "metadata": {},
   "outputs": [],
   "source": [
    "columns_to_be_dropped = ['Unnamed: 0', 'Unnamed: 0.1']\n",
    "soil_df = soil_df.drop(columns_to_be_dropped, axis=1)"
   ]
  },
  {
   "cell_type": "code",
   "execution_count": 12,
   "metadata": {},
   "outputs": [],
   "source": [
    "# Renaming some of the columns"
   ]
  },
  {
   "cell_type": "code",
   "execution_count": 13,
   "metadata": {},
   "outputs": [],
   "source": [
    "soil_df.rename(columns={'ndvi':'NDVI', 'arvi':'ARVI', 'evi':'EVI', 'gci':'GCI', 'ndwi':'NDWI'}, inplace=True)"
   ]
  },
  {
   "cell_type": "code",
   "execution_count": 14,
   "metadata": {},
   "outputs": [],
   "source": [
    "# Rearranging the columns"
   ]
  },
  {
   "cell_type": "code",
   "execution_count": 15,
   "metadata": {},
   "outputs": [],
   "source": [
    "soil_df = soil_df[['Latitude', 'Longitude', 'District', 'Mandal', 'Village', 'SoilType', 'pH', 'EC', 'OC', 'P', 'K', 'Ca', 'Mg', 'S', 'Zn', 'B', 'Fe', 'Cu', 'Mn', 'NDVI', 'ARVI', 'EVI', 'GCI', 'NDWI', 'Crop']]"
   ]
  },
  {
   "cell_type": "code",
   "execution_count": 16,
   "metadata": {},
   "outputs": [],
   "source": [
    "# Modifiying the datatypes of certain columns"
   ]
  },
  {
   "cell_type": "code",
   "execution_count": 17,
   "metadata": {},
   "outputs": [],
   "source": [
    "soil_df['K'] = soil_df['K'].astype('float')\n",
    "soil_df['Ca'] = soil_df['Ca'].astype('float')\n",
    "soil_df['Mg'] = soil_df['Mg'].astype('float')\n",
    "soil_df['S'] = pd.to_numeric(soil_df['S'], errors='coerce')\n",
    "soil_df['B'] = pd.to_numeric(soil_df['B'], errors='coerce')\n",
    "soil_df['OC'] = pd.to_numeric(soil_df['OC'], errors='coerce')"
   ]
  },
  {
   "cell_type": "code",
   "execution_count": 18,
   "metadata": {},
   "outputs": [],
   "source": [
    "# Dropping rows with missing values"
   ]
  },
  {
   "cell_type": "code",
   "execution_count": 19,
   "metadata": {},
   "outputs": [],
   "source": [
    "soil_df = soil_df.dropna()"
   ]
  },
  {
   "cell_type": "code",
   "execution_count": 20,
   "metadata": {},
   "outputs": [],
   "source": [
    "# Columns of the dataframe after preprocessing"
   ]
  },
  {
   "cell_type": "code",
   "execution_count": 21,
   "metadata": {},
   "outputs": [
    {
     "data": {
      "text/plain": [
       "Latitude     float64\n",
       "Longitude    float64\n",
       "District      object\n",
       "Mandal        object\n",
       "Village       object\n",
       "SoilType      object\n",
       "pH           float64\n",
       "EC           float64\n",
       "OC           float64\n",
       "P            float64\n",
       "K            float64\n",
       "Ca           float64\n",
       "Mg           float64\n",
       "S            float64\n",
       "Zn           float64\n",
       "B            float64\n",
       "Fe           float64\n",
       "Cu           float64\n",
       "Mn           float64\n",
       "NDVI         float64\n",
       "ARVI         float64\n",
       "EVI          float64\n",
       "GCI          float64\n",
       "NDWI         float64\n",
       "Crop          object\n",
       "dtype: object"
      ]
     },
     "execution_count": 21,
     "metadata": {},
     "output_type": "execute_result"
    }
   ],
   "source": [
    "soil_df.dtypes"
   ]
  },
  {
   "cell_type": "code",
   "execution_count": 22,
   "metadata": {},
   "outputs": [],
   "source": [
    "# Descriptive statistics of the dataframe"
   ]
  },
  {
   "cell_type": "code",
   "execution_count": 23,
   "metadata": {},
   "outputs": [
    {
     "data": {
      "text/html": [
       "<div>\n",
       "<style scoped>\n",
       "    .dataframe tbody tr th:only-of-type {\n",
       "        vertical-align: middle;\n",
       "    }\n",
       "\n",
       "    .dataframe tbody tr th {\n",
       "        vertical-align: top;\n",
       "    }\n",
       "\n",
       "    .dataframe thead th {\n",
       "        text-align: right;\n",
       "    }\n",
       "</style>\n",
       "<table border=\"1\" class=\"dataframe\">\n",
       "  <thead>\n",
       "    <tr style=\"text-align: right;\">\n",
       "      <th></th>\n",
       "      <th>Latitude</th>\n",
       "      <th>Longitude</th>\n",
       "      <th>pH</th>\n",
       "      <th>EC</th>\n",
       "      <th>OC</th>\n",
       "      <th>P</th>\n",
       "      <th>K</th>\n",
       "      <th>Ca</th>\n",
       "      <th>Mg</th>\n",
       "      <th>S</th>\n",
       "      <th>Zn</th>\n",
       "      <th>B</th>\n",
       "      <th>Fe</th>\n",
       "      <th>Cu</th>\n",
       "      <th>Mn</th>\n",
       "      <th>NDVI</th>\n",
       "      <th>ARVI</th>\n",
       "      <th>EVI</th>\n",
       "      <th>GCI</th>\n",
       "      <th>NDWI</th>\n",
       "    </tr>\n",
       "  </thead>\n",
       "  <tbody>\n",
       "    <tr>\n",
       "      <th>count</th>\n",
       "      <td>4564.000000</td>\n",
       "      <td>4564.000000</td>\n",
       "      <td>4564.000000</td>\n",
       "      <td>4564.000000</td>\n",
       "      <td>4564.000000</td>\n",
       "      <td>4564.000000</td>\n",
       "      <td>4564.000000</td>\n",
       "      <td>4564.000000</td>\n",
       "      <td>4564.000000</td>\n",
       "      <td>4564.000000</td>\n",
       "      <td>4564.000000</td>\n",
       "      <td>4564.000000</td>\n",
       "      <td>4564.000000</td>\n",
       "      <td>4564.000000</td>\n",
       "      <td>4564.000000</td>\n",
       "      <td>4564.000000</td>\n",
       "      <td>4564.000000</td>\n",
       "      <td>4564.000000</td>\n",
       "      <td>4564.000000</td>\n",
       "      <td>4564.000000</td>\n",
       "    </tr>\n",
       "    <tr>\n",
       "      <th>mean</th>\n",
       "      <td>15.945184</td>\n",
       "      <td>80.530859</td>\n",
       "      <td>7.497180</td>\n",
       "      <td>0.504709</td>\n",
       "      <td>0.480874</td>\n",
       "      <td>16.822927</td>\n",
       "      <td>161.499343</td>\n",
       "      <td>2458.232033</td>\n",
       "      <td>535.847064</td>\n",
       "      <td>49.849908</td>\n",
       "      <td>1.126378</td>\n",
       "      <td>1.195449</td>\n",
       "      <td>29.038473</td>\n",
       "      <td>2.604652</td>\n",
       "      <td>18.791507</td>\n",
       "      <td>0.413328</td>\n",
       "      <td>0.233421</td>\n",
       "      <td>1.435249</td>\n",
       "      <td>1.910122</td>\n",
       "      <td>-0.440457</td>\n",
       "    </tr>\n",
       "    <tr>\n",
       "      <th>std</th>\n",
       "      <td>1.740843</td>\n",
       "      <td>2.031554</td>\n",
       "      <td>1.043035</td>\n",
       "      <td>1.067671</td>\n",
       "      <td>0.257423</td>\n",
       "      <td>18.610285</td>\n",
       "      <td>138.101414</td>\n",
       "      <td>2164.436861</td>\n",
       "      <td>479.390388</td>\n",
       "      <td>118.737146</td>\n",
       "      <td>1.399054</td>\n",
       "      <td>1.016308</td>\n",
       "      <td>39.265997</td>\n",
       "      <td>3.118959</td>\n",
       "      <td>19.139737</td>\n",
       "      <td>0.215426</td>\n",
       "      <td>0.209352</td>\n",
       "      <td>7.658980</td>\n",
       "      <td>1.230773</td>\n",
       "      <td>0.174658</td>\n",
       "    </tr>\n",
       "    <tr>\n",
       "      <th>min</th>\n",
       "      <td>12.810000</td>\n",
       "      <td>75.280000</td>\n",
       "      <td>4.150000</td>\n",
       "      <td>0.010000</td>\n",
       "      <td>0.010000</td>\n",
       "      <td>0.450000</td>\n",
       "      <td>12.000000</td>\n",
       "      <td>46.000000</td>\n",
       "      <td>4.000000</td>\n",
       "      <td>0.100000</td>\n",
       "      <td>0.030000</td>\n",
       "      <td>0.030000</td>\n",
       "      <td>0.040000</td>\n",
       "      <td>0.030000</td>\n",
       "      <td>0.010000</td>\n",
       "      <td>-0.990654</td>\n",
       "      <td>-0.509110</td>\n",
       "      <td>-15.729614</td>\n",
       "      <td>-0.998182</td>\n",
       "      <td>-0.796160</td>\n",
       "    </tr>\n",
       "    <tr>\n",
       "      <th>25%</th>\n",
       "      <td>14.530000</td>\n",
       "      <td>78.970000</td>\n",
       "      <td>6.800000</td>\n",
       "      <td>0.120000</td>\n",
       "      <td>0.290000</td>\n",
       "      <td>5.240000</td>\n",
       "      <td>83.000000</td>\n",
       "      <td>863.000000</td>\n",
       "      <td>191.000000</td>\n",
       "      <td>4.807500</td>\n",
       "      <td>0.420000</td>\n",
       "      <td>0.480000</td>\n",
       "      <td>5.790000</td>\n",
       "      <td>0.940000</td>\n",
       "      <td>8.117500</td>\n",
       "      <td>0.247253</td>\n",
       "      <td>0.062255</td>\n",
       "      <td>0.510231</td>\n",
       "      <td>1.120627</td>\n",
       "      <td>-0.546648</td>\n",
       "    </tr>\n",
       "    <tr>\n",
       "      <th>50%</th>\n",
       "      <td>15.560000</td>\n",
       "      <td>80.090000</td>\n",
       "      <td>7.820000</td>\n",
       "      <td>0.230000</td>\n",
       "      <td>0.440000</td>\n",
       "      <td>11.110000</td>\n",
       "      <td>130.000000</td>\n",
       "      <td>1703.500000</td>\n",
       "      <td>386.500000</td>\n",
       "      <td>11.630000</td>\n",
       "      <td>0.720000</td>\n",
       "      <td>0.910000</td>\n",
       "      <td>12.455000</td>\n",
       "      <td>1.500000</td>\n",
       "      <td>12.955000</td>\n",
       "      <td>0.393643</td>\n",
       "      <td>0.197222</td>\n",
       "      <td>1.000337</td>\n",
       "      <td>1.638293</td>\n",
       "      <td>-0.450292</td>\n",
       "    </tr>\n",
       "    <tr>\n",
       "      <th>75%</th>\n",
       "      <td>17.730000</td>\n",
       "      <td>82.500000</td>\n",
       "      <td>8.272500</td>\n",
       "      <td>0.530000</td>\n",
       "      <td>0.630000</td>\n",
       "      <td>21.780000</td>\n",
       "      <td>198.000000</td>\n",
       "      <td>3217.750000</td>\n",
       "      <td>739.000000</td>\n",
       "      <td>36.730000</td>\n",
       "      <td>1.270000</td>\n",
       "      <td>1.620000</td>\n",
       "      <td>35.070000</td>\n",
       "      <td>2.700000</td>\n",
       "      <td>21.942500</td>\n",
       "      <td>0.584499</td>\n",
       "      <td>0.395253</td>\n",
       "      <td>1.741673</td>\n",
       "      <td>2.411581</td>\n",
       "      <td>-0.359103</td>\n",
       "    </tr>\n",
       "    <tr>\n",
       "      <th>max</th>\n",
       "      <td>18.800000</td>\n",
       "      <td>84.190000</td>\n",
       "      <td>9.890000</td>\n",
       "      <td>27.500000</td>\n",
       "      <td>2.640000</td>\n",
       "      <td>361.940000</td>\n",
       "      <td>2409.000000</td>\n",
       "      <td>13304.000000</td>\n",
       "      <td>5363.000000</td>\n",
       "      <td>2539.580000</td>\n",
       "      <td>23.920000</td>\n",
       "      <td>13.730000</td>\n",
       "      <td>354.700000</td>\n",
       "      <td>20.180000</td>\n",
       "      <td>256.880000</td>\n",
       "      <td>0.893920</td>\n",
       "      <td>0.806669</td>\n",
       "      <td>500.909091</td>\n",
       "      <td>7.811594</td>\n",
       "      <td>0.996370</td>\n",
       "    </tr>\n",
       "  </tbody>\n",
       "</table>\n",
       "</div>"
      ],
      "text/plain": [
       "          Latitude    Longitude           pH           EC           OC  \\\n",
       "count  4564.000000  4564.000000  4564.000000  4564.000000  4564.000000   \n",
       "mean     15.945184    80.530859     7.497180     0.504709     0.480874   \n",
       "std       1.740843     2.031554     1.043035     1.067671     0.257423   \n",
       "min      12.810000    75.280000     4.150000     0.010000     0.010000   \n",
       "25%      14.530000    78.970000     6.800000     0.120000     0.290000   \n",
       "50%      15.560000    80.090000     7.820000     0.230000     0.440000   \n",
       "75%      17.730000    82.500000     8.272500     0.530000     0.630000   \n",
       "max      18.800000    84.190000     9.890000    27.500000     2.640000   \n",
       "\n",
       "                 P            K            Ca           Mg            S  \\\n",
       "count  4564.000000  4564.000000   4564.000000  4564.000000  4564.000000   \n",
       "mean     16.822927   161.499343   2458.232033   535.847064    49.849908   \n",
       "std      18.610285   138.101414   2164.436861   479.390388   118.737146   \n",
       "min       0.450000    12.000000     46.000000     4.000000     0.100000   \n",
       "25%       5.240000    83.000000    863.000000   191.000000     4.807500   \n",
       "50%      11.110000   130.000000   1703.500000   386.500000    11.630000   \n",
       "75%      21.780000   198.000000   3217.750000   739.000000    36.730000   \n",
       "max     361.940000  2409.000000  13304.000000  5363.000000  2539.580000   \n",
       "\n",
       "                Zn            B           Fe           Cu           Mn  \\\n",
       "count  4564.000000  4564.000000  4564.000000  4564.000000  4564.000000   \n",
       "mean      1.126378     1.195449    29.038473     2.604652    18.791507   \n",
       "std       1.399054     1.016308    39.265997     3.118959    19.139737   \n",
       "min       0.030000     0.030000     0.040000     0.030000     0.010000   \n",
       "25%       0.420000     0.480000     5.790000     0.940000     8.117500   \n",
       "50%       0.720000     0.910000    12.455000     1.500000    12.955000   \n",
       "75%       1.270000     1.620000    35.070000     2.700000    21.942500   \n",
       "max      23.920000    13.730000   354.700000    20.180000   256.880000   \n",
       "\n",
       "              NDVI         ARVI          EVI          GCI         NDWI  \n",
       "count  4564.000000  4564.000000  4564.000000  4564.000000  4564.000000  \n",
       "mean      0.413328     0.233421     1.435249     1.910122    -0.440457  \n",
       "std       0.215426     0.209352     7.658980     1.230773     0.174658  \n",
       "min      -0.990654    -0.509110   -15.729614    -0.998182    -0.796160  \n",
       "25%       0.247253     0.062255     0.510231     1.120627    -0.546648  \n",
       "50%       0.393643     0.197222     1.000337     1.638293    -0.450292  \n",
       "75%       0.584499     0.395253     1.741673     2.411581    -0.359103  \n",
       "max       0.893920     0.806669   500.909091     7.811594     0.996370  "
      ]
     },
     "execution_count": 23,
     "metadata": {},
     "output_type": "execute_result"
    }
   ],
   "source": [
    "soil_df.describe()"
   ]
  },
  {
   "cell_type": "code",
   "execution_count": 24,
   "metadata": {},
   "outputs": [],
   "source": [
    "# Saving the cleaned dataframe as a csv file called 'Cleaned_Soil.csv'"
   ]
  },
  {
   "cell_type": "code",
   "execution_count": 25,
   "metadata": {},
   "outputs": [],
   "source": [
    "soil_df.to_csv('Cleaned_Soil.csv')"
   ]
  },
  {
   "cell_type": "code",
   "execution_count": 26,
   "metadata": {},
   "outputs": [],
   "source": [
    "# List of Districts "
   ]
  },
  {
   "cell_type": "code",
   "execution_count": 27,
   "metadata": {},
   "outputs": [
    {
     "data": {
      "text/plain": [
       "['Anantapur',\n",
       " 'Chittoor',\n",
       " 'East Godavari',\n",
       " 'Guntur',\n",
       " 'Kadapa',\n",
       " 'Krishna',\n",
       " 'Kurnool',\n",
       " 'Nellore',\n",
       " 'Prakasam',\n",
       " 'Srikakulam',\n",
       " 'Visakhapatnam',\n",
       " 'Vizianagaram',\n",
       " 'West Godavari']"
      ]
     },
     "execution_count": 27,
     "metadata": {},
     "output_type": "execute_result"
    }
   ],
   "source": [
    "list(soil_df['District'].unique())"
   ]
  },
  {
   "cell_type": "code",
   "execution_count": 28,
   "metadata": {},
   "outputs": [
    {
     "data": {
      "text/plain": [
       "Index(['Latitude', 'Longitude', 'District', 'Mandal', 'Village', 'SoilType',\n",
       "       'pH', 'EC', 'OC', 'P', 'K', 'Ca', 'Mg', 'S', 'Zn', 'B', 'Fe', 'Cu',\n",
       "       'Mn', 'NDVI', 'ARVI', 'EVI', 'GCI', 'NDWI', 'Crop'],\n",
       "      dtype='object')"
      ]
     },
     "execution_count": 28,
     "metadata": {},
     "output_type": "execute_result"
    }
   ],
   "source": [
    "soil_df.columns"
   ]
  }
 ],
 "metadata": {
  "kernelspec": {
   "display_name": "Python 3",
   "language": "python",
   "name": "python3"
  },
  "language_info": {
   "codemirror_mode": {
    "name": "ipython",
    "version": 3
   },
   "file_extension": ".py",
   "mimetype": "text/x-python",
   "name": "python",
   "nbconvert_exporter": "python",
   "pygments_lexer": "ipython3",
   "version": "3.8.8"
  }
 },
 "nbformat": 4,
 "nbformat_minor": 4
}
