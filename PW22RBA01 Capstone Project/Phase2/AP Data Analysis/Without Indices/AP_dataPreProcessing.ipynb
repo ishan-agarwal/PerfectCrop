{
 "cells": [
  {
   "cell_type": "code",
   "execution_count": 1,
   "metadata": {},
   "outputs": [],
   "source": [
    "# Importing the required modules"
   ]
  },
  {
   "cell_type": "code",
   "execution_count": 2,
   "metadata": {},
   "outputs": [],
   "source": [
    "import numpy as np\n",
    "import matplotlib.pyplot as plt\n",
    "import pandas as pd\n",
    "import seaborn as sns"
   ]
  },
  {
   "cell_type": "code",
   "execution_count": 3,
   "metadata": {},
   "outputs": [],
   "source": [
    "# Importing the dataset as a dataframe"
   ]
  },
  {
   "cell_type": "code",
   "execution_count": 4,
   "metadata": {},
   "outputs": [],
   "source": [
    "soil_df = pd.read_csv('Soil.csv')"
   ]
  },
  {
   "cell_type": "code",
   "execution_count": 5,
   "metadata": {},
   "outputs": [
    {
     "data": {
      "text/html": [
       "<div>\n",
       "<style scoped>\n",
       "    .dataframe tbody tr th:only-of-type {\n",
       "        vertical-align: middle;\n",
       "    }\n",
       "\n",
       "    .dataframe tbody tr th {\n",
       "        vertical-align: top;\n",
       "    }\n",
       "\n",
       "    .dataframe thead th {\n",
       "        text-align: right;\n",
       "    }\n",
       "</style>\n",
       "<table border=\"1\" class=\"dataframe\">\n",
       "  <thead>\n",
       "    <tr style=\"text-align: right;\">\n",
       "      <th></th>\n",
       "      <th>Sl no</th>\n",
       "      <th>Date</th>\n",
       "      <th>Farmer No</th>\n",
       "      <th>Macro/ Micro nutrient</th>\n",
       "      <th>Farmer Name</th>\n",
       "      <th>District</th>\n",
       "      <th>Mandal</th>\n",
       "      <th>Village</th>\n",
       "      <th>Latitude</th>\n",
       "      <th>Longitude</th>\n",
       "      <th>...</th>\n",
       "      <th>Exch-K</th>\n",
       "      <th>Avail-Ca</th>\n",
       "      <th>Avail-Mg</th>\n",
       "      <th>Avail-S</th>\n",
       "      <th>Avail-Zn</th>\n",
       "      <th>Avail-B</th>\n",
       "      <th>Avail-Fe</th>\n",
       "      <th>Avail-Cu</th>\n",
       "      <th>Avail-Mn</th>\n",
       "      <th>Time</th>\n",
       "    </tr>\n",
       "  </thead>\n",
       "  <tbody>\n",
       "    <tr>\n",
       "      <th>0</th>\n",
       "      <td>1</td>\n",
       "      <td>01-01-2015</td>\n",
       "      <td>1910</td>\n",
       "      <td>RK2276</td>\n",
       "      <td>P.Krishna Naik</td>\n",
       "      <td>Anantapur</td>\n",
       "      <td>Penukonda</td>\n",
       "      <td>Gonipeta</td>\n",
       "      <td>14.08</td>\n",
       "      <td>77.69</td>\n",
       "      <td>...</td>\n",
       "      <td>41</td>\n",
       "      <td>587</td>\n",
       "      <td>101</td>\n",
       "      <td>5.16</td>\n",
       "      <td>0.30</td>\n",
       "      <td>0.17</td>\n",
       "      <td>8.89</td>\n",
       "      <td>0.51</td>\n",
       "      <td>15.24</td>\n",
       "      <td>01-01-2015</td>\n",
       "    </tr>\n",
       "    <tr>\n",
       "      <th>1</th>\n",
       "      <td>2</td>\n",
       "      <td>01-01-2015</td>\n",
       "      <td>1911</td>\n",
       "      <td>RK2277</td>\n",
       "      <td>Kallu Thippe Naik</td>\n",
       "      <td>Anantapur</td>\n",
       "      <td>Penukonda</td>\n",
       "      <td>Gonipeta</td>\n",
       "      <td>14.09</td>\n",
       "      <td>77.69</td>\n",
       "      <td>...</td>\n",
       "      <td>102</td>\n",
       "      <td>811</td>\n",
       "      <td>261</td>\n",
       "      <td>9.91</td>\n",
       "      <td>0.36</td>\n",
       "      <td>0.57</td>\n",
       "      <td>3.24</td>\n",
       "      <td>0.44</td>\n",
       "      <td>6.90</td>\n",
       "      <td>01-01-2015</td>\n",
       "    </tr>\n",
       "    <tr>\n",
       "      <th>2</th>\n",
       "      <td>3</td>\n",
       "      <td>01-01-2015</td>\n",
       "      <td>1912</td>\n",
       "      <td>RK2278</td>\n",
       "      <td>P.Duble Bai</td>\n",
       "      <td>Anantapur</td>\n",
       "      <td>Penukonda</td>\n",
       "      <td>Gonipeta</td>\n",
       "      <td>14.09</td>\n",
       "      <td>77.69</td>\n",
       "      <td>...</td>\n",
       "      <td>46</td>\n",
       "      <td>582</td>\n",
       "      <td>48</td>\n",
       "      <td>3.77</td>\n",
       "      <td>0.37</td>\n",
       "      <td>0.19</td>\n",
       "      <td>5.54</td>\n",
       "      <td>0.42</td>\n",
       "      <td>8.34</td>\n",
       "      <td>01-01-2015</td>\n",
       "    </tr>\n",
       "    <tr>\n",
       "      <th>3</th>\n",
       "      <td>4</td>\n",
       "      <td>01-01-2015</td>\n",
       "      <td>1913</td>\n",
       "      <td>RK2279</td>\n",
       "      <td>H.Marekka (Kamma)</td>\n",
       "      <td>Anantapur</td>\n",
       "      <td>Penukonda</td>\n",
       "      <td>Gonipeta</td>\n",
       "      <td>14.10</td>\n",
       "      <td>77.70</td>\n",
       "      <td>...</td>\n",
       "      <td>35</td>\n",
       "      <td>3048</td>\n",
       "      <td>52</td>\n",
       "      <td>4.14</td>\n",
       "      <td>0.23</td>\n",
       "      <td>0.21</td>\n",
       "      <td>1.79</td>\n",
       "      <td>0.67</td>\n",
       "      <td>4.17</td>\n",
       "      <td>01-01-2015</td>\n",
       "    </tr>\n",
       "    <tr>\n",
       "      <th>4</th>\n",
       "      <td>5</td>\n",
       "      <td>01-01-2015</td>\n",
       "      <td>1914</td>\n",
       "      <td>RK2280</td>\n",
       "      <td>M.Alevelamma</td>\n",
       "      <td>Anantapur</td>\n",
       "      <td>Penukonda</td>\n",
       "      <td>Gonipeta</td>\n",
       "      <td>14.09</td>\n",
       "      <td>77.69</td>\n",
       "      <td>...</td>\n",
       "      <td>76</td>\n",
       "      <td>511</td>\n",
       "      <td>84</td>\n",
       "      <td>1.45</td>\n",
       "      <td>0.36</td>\n",
       "      <td>0.22</td>\n",
       "      <td>22.26</td>\n",
       "      <td>0.45</td>\n",
       "      <td>9.20</td>\n",
       "      <td>01-01-2015</td>\n",
       "    </tr>\n",
       "  </tbody>\n",
       "</table>\n",
       "<p>5 rows × 29 columns</p>\n",
       "</div>"
      ],
      "text/plain": [
       "   Sl no        Date Farmer No Macro/ Micro nutrient        Farmer Name  \\\n",
       "0      1  01-01-2015      1910                RK2276     P.Krishna Naik   \n",
       "1      2  01-01-2015      1911                RK2277  Kallu Thippe Naik   \n",
       "2      3  01-01-2015      1912                RK2278        P.Duble Bai   \n",
       "3      4  01-01-2015      1913                RK2279  H.Marekka (Kamma)   \n",
       "4      5  01-01-2015      1914                RK2280       M.Alevelamma   \n",
       "\n",
       "    District     Mandal   Village  Latitude  Longitude  ... Exch-K Avail-Ca  \\\n",
       "0  Anantapur  Penukonda  Gonipeta     14.08      77.69  ...     41      587   \n",
       "1  Anantapur  Penukonda  Gonipeta     14.09      77.69  ...    102      811   \n",
       "2  Anantapur  Penukonda  Gonipeta     14.09      77.69  ...     46      582   \n",
       "3  Anantapur  Penukonda  Gonipeta     14.10      77.70  ...     35     3048   \n",
       "4  Anantapur  Penukonda  Gonipeta     14.09      77.69  ...     76      511   \n",
       "\n",
       "  Avail-Mg Avail-S Avail-Zn  Avail-B  Avail-Fe Avail-Cu  Avail-Mn        Time  \n",
       "0      101    5.16     0.30     0.17      8.89     0.51     15.24  01-01-2015  \n",
       "1      261    9.91     0.36     0.57      3.24     0.44      6.90  01-01-2015  \n",
       "2       48    3.77     0.37     0.19      5.54     0.42      8.34  01-01-2015  \n",
       "3       52    4.14     0.23     0.21      1.79     0.67      4.17  01-01-2015  \n",
       "4       84    1.45     0.36     0.22     22.26     0.45      9.20  01-01-2015  \n",
       "\n",
       "[5 rows x 29 columns]"
      ]
     },
     "execution_count": 5,
     "metadata": {},
     "output_type": "execute_result"
    }
   ],
   "source": [
    "soil_df.head()"
   ]
  },
  {
   "cell_type": "code",
   "execution_count": 6,
   "metadata": {},
   "outputs": [],
   "source": [
    "# Datatype of each column"
   ]
  },
  {
   "cell_type": "code",
   "execution_count": 7,
   "metadata": {},
   "outputs": [
    {
     "data": {
      "text/plain": [
       "Sl no                      int64\n",
       "Date                      object\n",
       "Farmer No                 object\n",
       "Macro/ Micro nutrient     object\n",
       "Farmer Name               object\n",
       "District                  object\n",
       "Mandal                    object\n",
       "Village                   object\n",
       "Latitude                 float64\n",
       "Longitude                float64\n",
       "Survey No.                object\n",
       "Soil type                 object\n",
       "Fathers Name              object\n",
       "Extent\\n(AC)              object\n",
       "Crop before               object\n",
       "pH                       float64\n",
       "EC                       float64\n",
       "OC                        object\n",
       "Avail-P                  float64\n",
       "Exch-K                     int64\n",
       "Avail-Ca                   int64\n",
       "Avail-Mg                   int64\n",
       "Avail-S                   object\n",
       "Avail-Zn                 float64\n",
       "Avail-B                   object\n",
       "Avail-Fe                 float64\n",
       "Avail-Cu                 float64\n",
       "Avail-Mn                 float64\n",
       "Time                      object\n",
       "dtype: object"
      ]
     },
     "execution_count": 7,
     "metadata": {},
     "output_type": "execute_result"
    }
   ],
   "source": [
    "soil_df.dtypes"
   ]
  },
  {
   "cell_type": "code",
   "execution_count": 8,
   "metadata": {},
   "outputs": [],
   "source": [
    "# Dropping the unimportant features"
   ]
  },
  {
   "cell_type": "code",
   "execution_count": 9,
   "metadata": {},
   "outputs": [],
   "source": [
    "columns_to_be_dropped = ['Sl no', 'Date', 'Farmer No', 'Macro/ Micro nutrient', 'Farmer Name', 'Survey No.', 'Fathers Name', 'Extent\\n(AC)', 'Time']\n",
    "soil_df = soil_df.drop(columns_to_be_dropped, axis=1)"
   ]
  },
  {
   "cell_type": "code",
   "execution_count": 10,
   "metadata": {},
   "outputs": [],
   "source": [
    "# Renaming some of the columns"
   ]
  },
  {
   "cell_type": "code",
   "execution_count": 11,
   "metadata": {},
   "outputs": [],
   "source": [
    "soil_df.rename(columns={'Crop before':'Crop', 'Soil type':'SoilType', 'Avail-P':'P'}, inplace=True)\n",
    "soil_df.rename(columns={'Exch-K':'K', 'Avail-Ca':'Ca', 'Avail-Mg':'Mg'}, inplace=True)\n",
    "soil_df.rename(columns={'Avail-S':'S', 'Avail-Zn':'Zn', 'Avail-B':'B'}, inplace=True)\n",
    "soil_df.rename(columns={'Avail-Fe':'Fe', 'Avail-Cu':'Cu', 'Avail-Mn':'Mn'}, inplace=True)"
   ]
  },
  {
   "cell_type": "code",
   "execution_count": 12,
   "metadata": {},
   "outputs": [],
   "source": [
    "# Rearranging the columns"
   ]
  },
  {
   "cell_type": "code",
   "execution_count": 13,
   "metadata": {},
   "outputs": [],
   "source": [
    "soil_df = soil_df[['Latitude', 'Longitude', 'District', 'Mandal', 'Village', 'SoilType', 'pH', 'EC', 'OC', 'P', 'K', 'Ca', 'Mg', 'S', 'Zn', 'B', 'Fe', 'Cu', 'Mn', 'Crop']]"
   ]
  },
  {
   "cell_type": "code",
   "execution_count": 14,
   "metadata": {},
   "outputs": [],
   "source": [
    "# Modifiying the datatypes of certain columns"
   ]
  },
  {
   "cell_type": "code",
   "execution_count": 15,
   "metadata": {},
   "outputs": [],
   "source": [
    "soil_df['K'] = soil_df['K'].astype('float')\n",
    "soil_df['Ca'] = soil_df['Ca'].astype('float')\n",
    "soil_df['Mg'] = soil_df['Mg'].astype('float')\n",
    "soil_df['S'] = pd.to_numeric(soil_df['S'], errors='coerce')\n",
    "soil_df['B'] = pd.to_numeric(soil_df['B'], errors='coerce')\n",
    "soil_df['OC'] = pd.to_numeric(soil_df['OC'], errors='coerce')"
   ]
  },
  {
   "cell_type": "code",
   "execution_count": 16,
   "metadata": {},
   "outputs": [],
   "source": [
    "# Dropping rows with missing values"
   ]
  },
  {
   "cell_type": "code",
   "execution_count": 17,
   "metadata": {},
   "outputs": [],
   "source": [
    "soil_df = soil_df.dropna()"
   ]
  },
  {
   "cell_type": "code",
   "execution_count": 18,
   "metadata": {},
   "outputs": [],
   "source": [
    "# Columns of the dataframe after preprocessing"
   ]
  },
  {
   "cell_type": "code",
   "execution_count": 19,
   "metadata": {},
   "outputs": [
    {
     "data": {
      "text/plain": [
       "Latitude     float64\n",
       "Longitude    float64\n",
       "District      object\n",
       "Mandal        object\n",
       "Village       object\n",
       "SoilType      object\n",
       "pH           float64\n",
       "EC           float64\n",
       "OC           float64\n",
       "P            float64\n",
       "K            float64\n",
       "Ca           float64\n",
       "Mg           float64\n",
       "S            float64\n",
       "Zn           float64\n",
       "B            float64\n",
       "Fe           float64\n",
       "Cu           float64\n",
       "Mn           float64\n",
       "Crop          object\n",
       "dtype: object"
      ]
     },
     "execution_count": 19,
     "metadata": {},
     "output_type": "execute_result"
    }
   ],
   "source": [
    "soil_df.dtypes"
   ]
  },
  {
   "cell_type": "code",
   "execution_count": 20,
   "metadata": {},
   "outputs": [],
   "source": [
    "# Descriptive statistics of the dataframe"
   ]
  },
  {
   "cell_type": "code",
   "execution_count": 21,
   "metadata": {},
   "outputs": [
    {
     "data": {
      "text/html": [
       "<div>\n",
       "<style scoped>\n",
       "    .dataframe tbody tr th:only-of-type {\n",
       "        vertical-align: middle;\n",
       "    }\n",
       "\n",
       "    .dataframe tbody tr th {\n",
       "        vertical-align: top;\n",
       "    }\n",
       "\n",
       "    .dataframe thead th {\n",
       "        text-align: right;\n",
       "    }\n",
       "</style>\n",
       "<table border=\"1\" class=\"dataframe\">\n",
       "  <thead>\n",
       "    <tr style=\"text-align: right;\">\n",
       "      <th></th>\n",
       "      <th>Latitude</th>\n",
       "      <th>Longitude</th>\n",
       "      <th>pH</th>\n",
       "      <th>EC</th>\n",
       "      <th>OC</th>\n",
       "      <th>P</th>\n",
       "      <th>K</th>\n",
       "      <th>Ca</th>\n",
       "      <th>Mg</th>\n",
       "      <th>S</th>\n",
       "      <th>Zn</th>\n",
       "      <th>B</th>\n",
       "      <th>Fe</th>\n",
       "      <th>Cu</th>\n",
       "      <th>Mn</th>\n",
       "    </tr>\n",
       "  </thead>\n",
       "  <tbody>\n",
       "    <tr>\n",
       "      <th>count</th>\n",
       "      <td>4568.000000</td>\n",
       "      <td>4568.000000</td>\n",
       "      <td>4568.000000</td>\n",
       "      <td>4568.000000</td>\n",
       "      <td>4568.000000</td>\n",
       "      <td>4568.000000</td>\n",
       "      <td>4568.000000</td>\n",
       "      <td>4568.000000</td>\n",
       "      <td>4568.000000</td>\n",
       "      <td>4568.000000</td>\n",
       "      <td>4568.000000</td>\n",
       "      <td>4568.000000</td>\n",
       "      <td>4568.000000</td>\n",
       "      <td>4568.000000</td>\n",
       "      <td>4568.000000</td>\n",
       "    </tr>\n",
       "    <tr>\n",
       "      <th>mean</th>\n",
       "      <td>15.944831</td>\n",
       "      <td>80.529853</td>\n",
       "      <td>7.497154</td>\n",
       "      <td>0.504538</td>\n",
       "      <td>0.480779</td>\n",
       "      <td>16.812774</td>\n",
       "      <td>161.487084</td>\n",
       "      <td>2459.675569</td>\n",
       "      <td>535.914186</td>\n",
       "      <td>49.827496</td>\n",
       "      <td>1.125858</td>\n",
       "      <td>1.195267</td>\n",
       "      <td>29.033584</td>\n",
       "      <td>2.603540</td>\n",
       "      <td>18.789297</td>\n",
       "    </tr>\n",
       "    <tr>\n",
       "      <th>std</th>\n",
       "      <td>1.740956</td>\n",
       "      <td>2.032334</td>\n",
       "      <td>1.043438</td>\n",
       "      <td>1.067247</td>\n",
       "      <td>0.257344</td>\n",
       "      <td>18.605805</td>\n",
       "      <td>138.070049</td>\n",
       "      <td>2166.450116</td>\n",
       "      <td>479.291102</td>\n",
       "      <td>118.691247</td>\n",
       "      <td>1.398581</td>\n",
       "      <td>1.016041</td>\n",
       "      <td>39.255834</td>\n",
       "      <td>3.117829</td>\n",
       "      <td>19.132041</td>\n",
       "    </tr>\n",
       "    <tr>\n",
       "      <th>min</th>\n",
       "      <td>12.810000</td>\n",
       "      <td>75.280000</td>\n",
       "      <td>4.150000</td>\n",
       "      <td>0.010000</td>\n",
       "      <td>0.010000</td>\n",
       "      <td>0.450000</td>\n",
       "      <td>12.000000</td>\n",
       "      <td>46.000000</td>\n",
       "      <td>4.000000</td>\n",
       "      <td>0.100000</td>\n",
       "      <td>0.030000</td>\n",
       "      <td>0.030000</td>\n",
       "      <td>0.040000</td>\n",
       "      <td>0.030000</td>\n",
       "      <td>0.010000</td>\n",
       "    </tr>\n",
       "    <tr>\n",
       "      <th>25%</th>\n",
       "      <td>14.530000</td>\n",
       "      <td>78.970000</td>\n",
       "      <td>6.800000</td>\n",
       "      <td>0.120000</td>\n",
       "      <td>0.290000</td>\n",
       "      <td>5.230000</td>\n",
       "      <td>83.000000</td>\n",
       "      <td>863.000000</td>\n",
       "      <td>191.000000</td>\n",
       "      <td>4.807500</td>\n",
       "      <td>0.420000</td>\n",
       "      <td>0.480000</td>\n",
       "      <td>5.790000</td>\n",
       "      <td>0.940000</td>\n",
       "      <td>8.135000</td>\n",
       "    </tr>\n",
       "    <tr>\n",
       "      <th>50%</th>\n",
       "      <td>15.555000</td>\n",
       "      <td>80.090000</td>\n",
       "      <td>7.820000</td>\n",
       "      <td>0.230000</td>\n",
       "      <td>0.440000</td>\n",
       "      <td>11.110000</td>\n",
       "      <td>130.000000</td>\n",
       "      <td>1703.500000</td>\n",
       "      <td>387.000000</td>\n",
       "      <td>11.625000</td>\n",
       "      <td>0.720000</td>\n",
       "      <td>0.910000</td>\n",
       "      <td>12.455000</td>\n",
       "      <td>1.500000</td>\n",
       "      <td>12.960000</td>\n",
       "    </tr>\n",
       "    <tr>\n",
       "      <th>75%</th>\n",
       "      <td>17.730000</td>\n",
       "      <td>82.500000</td>\n",
       "      <td>8.280000</td>\n",
       "      <td>0.530000</td>\n",
       "      <td>0.630000</td>\n",
       "      <td>21.765000</td>\n",
       "      <td>198.000000</td>\n",
       "      <td>3226.500000</td>\n",
       "      <td>739.250000</td>\n",
       "      <td>36.730000</td>\n",
       "      <td>1.270000</td>\n",
       "      <td>1.620000</td>\n",
       "      <td>35.070000</td>\n",
       "      <td>2.692500</td>\n",
       "      <td>21.942500</td>\n",
       "    </tr>\n",
       "    <tr>\n",
       "      <th>max</th>\n",
       "      <td>18.800000</td>\n",
       "      <td>84.190000</td>\n",
       "      <td>9.890000</td>\n",
       "      <td>27.500000</td>\n",
       "      <td>2.640000</td>\n",
       "      <td>361.940000</td>\n",
       "      <td>2409.000000</td>\n",
       "      <td>13304.000000</td>\n",
       "      <td>5363.000000</td>\n",
       "      <td>2539.580000</td>\n",
       "      <td>23.920000</td>\n",
       "      <td>13.730000</td>\n",
       "      <td>354.700000</td>\n",
       "      <td>20.180000</td>\n",
       "      <td>256.880000</td>\n",
       "    </tr>\n",
       "  </tbody>\n",
       "</table>\n",
       "</div>"
      ],
      "text/plain": [
       "          Latitude    Longitude           pH           EC           OC  \\\n",
       "count  4568.000000  4568.000000  4568.000000  4568.000000  4568.000000   \n",
       "mean     15.944831    80.529853     7.497154     0.504538     0.480779   \n",
       "std       1.740956     2.032334     1.043438     1.067247     0.257344   \n",
       "min      12.810000    75.280000     4.150000     0.010000     0.010000   \n",
       "25%      14.530000    78.970000     6.800000     0.120000     0.290000   \n",
       "50%      15.555000    80.090000     7.820000     0.230000     0.440000   \n",
       "75%      17.730000    82.500000     8.280000     0.530000     0.630000   \n",
       "max      18.800000    84.190000     9.890000    27.500000     2.640000   \n",
       "\n",
       "                 P            K            Ca           Mg            S  \\\n",
       "count  4568.000000  4568.000000   4568.000000  4568.000000  4568.000000   \n",
       "mean     16.812774   161.487084   2459.675569   535.914186    49.827496   \n",
       "std      18.605805   138.070049   2166.450116   479.291102   118.691247   \n",
       "min       0.450000    12.000000     46.000000     4.000000     0.100000   \n",
       "25%       5.230000    83.000000    863.000000   191.000000     4.807500   \n",
       "50%      11.110000   130.000000   1703.500000   387.000000    11.625000   \n",
       "75%      21.765000   198.000000   3226.500000   739.250000    36.730000   \n",
       "max     361.940000  2409.000000  13304.000000  5363.000000  2539.580000   \n",
       "\n",
       "                Zn            B           Fe           Cu           Mn  \n",
       "count  4568.000000  4568.000000  4568.000000  4568.000000  4568.000000  \n",
       "mean      1.125858     1.195267    29.033584     2.603540    18.789297  \n",
       "std       1.398581     1.016041    39.255834     3.117829    19.132041  \n",
       "min       0.030000     0.030000     0.040000     0.030000     0.010000  \n",
       "25%       0.420000     0.480000     5.790000     0.940000     8.135000  \n",
       "50%       0.720000     0.910000    12.455000     1.500000    12.960000  \n",
       "75%       1.270000     1.620000    35.070000     2.692500    21.942500  \n",
       "max      23.920000    13.730000   354.700000    20.180000   256.880000  "
      ]
     },
     "execution_count": 21,
     "metadata": {},
     "output_type": "execute_result"
    }
   ],
   "source": [
    "soil_df.describe()"
   ]
  },
  {
   "cell_type": "code",
   "execution_count": 22,
   "metadata": {},
   "outputs": [],
   "source": [
    "# Saving the cleaned dataframe as a csv file called 'Cleaned_Soil.csv'"
   ]
  },
  {
   "cell_type": "code",
   "execution_count": 23,
   "metadata": {},
   "outputs": [],
   "source": [
    "soil_df.to_csv('Cleaned_Soil.csv')"
   ]
  },
  {
   "cell_type": "code",
   "execution_count": 24,
   "metadata": {},
   "outputs": [],
   "source": [
    "# List of Districts "
   ]
  },
  {
   "cell_type": "code",
   "execution_count": 25,
   "metadata": {},
   "outputs": [
    {
     "data": {
      "text/plain": [
       "['Anantapur',\n",
       " 'Chittoor',\n",
       " 'East Godavari',\n",
       " 'Guntur',\n",
       " 'Kadapa',\n",
       " 'Krishna',\n",
       " 'Kurnool',\n",
       " 'Nellore',\n",
       " 'Prakasam',\n",
       " 'Srikakulam',\n",
       " 'Visakhapatnam',\n",
       " 'Vizianagaram',\n",
       " 'West Godavari']"
      ]
     },
     "execution_count": 25,
     "metadata": {},
     "output_type": "execute_result"
    }
   ],
   "source": [
    "list(soil_df['District'].unique())"
   ]
  },
  {
   "cell_type": "code",
   "execution_count": 26,
   "metadata": {},
   "outputs": [
    {
     "data": {
      "text/plain": [
       "Index(['Latitude', 'Longitude', 'District', 'Mandal', 'Village', 'SoilType',\n",
       "       'pH', 'EC', 'OC', 'P', 'K', 'Ca', 'Mg', 'S', 'Zn', 'B', 'Fe', 'Cu',\n",
       "       'Mn', 'Crop'],\n",
       "      dtype='object')"
      ]
     },
     "execution_count": 26,
     "metadata": {},
     "output_type": "execute_result"
    }
   ],
   "source": [
    "soil_df.columns"
   ]
  }
 ],
 "metadata": {
  "kernelspec": {
   "display_name": "Python 3",
   "language": "python",
   "name": "python3"
  },
  "language_info": {
   "codemirror_mode": {
    "name": "ipython",
    "version": 3
   },
   "file_extension": ".py",
   "mimetype": "text/x-python",
   "name": "python",
   "nbconvert_exporter": "python",
   "pygments_lexer": "ipython3",
   "version": "3.8.8"
  }
 },
 "nbformat": 4,
 "nbformat_minor": 4
}
